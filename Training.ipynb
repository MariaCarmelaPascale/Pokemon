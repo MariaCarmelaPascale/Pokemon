{
  "nbformat": 4,
  "nbformat_minor": 0,
  "metadata": {
    "language_info": {
      "codemirror_mode": {
        "name": "ipython",
        "version": 3
      },
      "file_extension": ".py",
      "mimetype": "text/x-python",
      "name": "python",
      "nbconvert_exporter": "python",
      "pygments_lexer": "ipython3",
      "version": "3.8.5"
    },
    "orig_nbformat": 2,
    "kernelspec": {
      "name": "python385jvsc74a57bd0dca0ade3e726a953b501b15e8e990130d2b7799f14cfd9f4271676035ebe5511",
      "display_name": "Python 3.8.5 64-bit ('base': conda)"
    },
    "colab": {
      "name": "Pokemon_Training.ipynb",
      "provenance": [],
      "collapsed_sections": [
        "DCxiljgDFTon",
        "ycEw6Rg-FTop",
        "I5zjjaneFToq",
        "a6BuWb1SWQNm",
        "mP0oX0eKXAm7",
        "4wCXwkOUx5vR",
        "FMZNJ8bpccjz",
        "pGLr2gRPj2yR",
        "C8qR7rddlqRt",
        "aJVPYoTAcsbs",
        "bbFZmq2LdAPs",
        "7givnqB5fNUk",
        "L7APSdqFfots",
        "vwPkdwG9gM21",
        "zkWGZ9ruhjtO",
        "D6biXr7fm5A9",
        "pOTPDA5e46wZ",
        "TNG8flwJ5IXY",
        "FSNVGCNR5an5",
        "CAWgLdinxR7v",
        "QBWkUiJmFTo1",
        "KLWj3UTCFTo7"
      ],
      "include_colab_link": true
    }
  },
  "cells": [
    {
      "cell_type": "markdown",
      "metadata": {
        "id": "view-in-github",
        "colab_type": "text"
      },
      "source": [
        "<a href=\"https://colab.research.google.com/github/MariaCarmelaPascale/Pokemon/blob/main/Training.ipynb\" target=\"_parent\"><img src=\"https://colab.research.google.com/assets/colab-badge.svg\" alt=\"Open In Colab\"/></a>"
      ]
    },
    {
      "cell_type": "markdown",
      "metadata": {
        "id": "AUT8qWlwFTom"
      },
      "source": [
        "# Notebook di training"
      ]
    },
    {
      "cell_type": "markdown",
      "metadata": {
        "id": "DCxiljgDFTon"
      },
      "source": [
        "## Import librerie necessarie"
      ]
    },
    {
      "cell_type": "code",
      "metadata": {
        "id": "ZfRYa7pZFToo"
      },
      "source": [
        "import pandas as pd\n",
        "import numpy as np\n",
        "import matplotlib.pyplot as plt\n",
        "import seaborn as sns"
      ],
      "execution_count": 333,
      "outputs": []
    },
    {
      "cell_type": "markdown",
      "metadata": {
        "id": "ycEw6Rg-FTop"
      },
      "source": [
        "## Import del training set, del test set e del pokemon.csv"
      ]
    },
    {
      "cell_type": "code",
      "metadata": {
        "id": "ngFTGMtQFTop"
      },
      "source": [
        "train = pd.read_csv(\"train.csv\")\n",
        "test = pd.read_csv(\"test.csv\")\n",
        "pokemon = pd.read_csv(\"pokemon.csv\")"
      ],
      "execution_count": 334,
      "outputs": []
    },
    {
      "cell_type": "markdown",
      "metadata": {
        "id": "I5zjjaneFToq"
      },
      "source": [
        "## Data analysis"
      ]
    },
    {
      "cell_type": "markdown",
      "metadata": {
        "id": "a6BuWb1SWQNm"
      },
      "source": [
        "####Stampe di carattere generale del training set"
      ]
    },
    {
      "cell_type": "code",
      "metadata": {
        "id": "HB0hfroJFTor",
        "colab": {
          "base_uri": "https://localhost:8080/",
          "height": 204
        },
        "outputId": "3be74640-3617-45d2-9ab8-ce6ee67f38f2"
      },
      "source": [
        "#visualizzazione delle prime righe del train\n",
        "train.head(5)"
      ],
      "execution_count": 335,
      "outputs": [
        {
          "output_type": "execute_result",
          "data": {
            "text/html": [
              "<div>\n",
              "<style scoped>\n",
              "    .dataframe tbody tr th:only-of-type {\n",
              "        vertical-align: middle;\n",
              "    }\n",
              "\n",
              "    .dataframe tbody tr th {\n",
              "        vertical-align: top;\n",
              "    }\n",
              "\n",
              "    .dataframe thead th {\n",
              "        text-align: right;\n",
              "    }\n",
              "</style>\n",
              "<table border=\"1\" class=\"dataframe\">\n",
              "  <thead>\n",
              "    <tr style=\"text-align: right;\">\n",
              "      <th></th>\n",
              "      <th>Winner</th>\n",
              "      <th>First_pokemon</th>\n",
              "      <th>Second_pokemon</th>\n",
              "    </tr>\n",
              "  </thead>\n",
              "  <tbody>\n",
              "    <tr>\n",
              "      <th>0</th>\n",
              "      <td>382</td>\n",
              "      <td>382</td>\n",
              "      <td>636</td>\n",
              "    </tr>\n",
              "    <tr>\n",
              "      <th>1</th>\n",
              "      <td>278</td>\n",
              "      <td>278</td>\n",
              "      <td>404</td>\n",
              "    </tr>\n",
              "    <tr>\n",
              "      <th>2</th>\n",
              "      <td>557</td>\n",
              "      <td>88</td>\n",
              "      <td>557</td>\n",
              "    </tr>\n",
              "    <tr>\n",
              "      <th>3</th>\n",
              "      <td>366</td>\n",
              "      <td>366</td>\n",
              "      <td>345</td>\n",
              "    </tr>\n",
              "    <tr>\n",
              "      <th>4</th>\n",
              "      <td>457</td>\n",
              "      <td>457</td>\n",
              "      <td>356</td>\n",
              "    </tr>\n",
              "  </tbody>\n",
              "</table>\n",
              "</div>"
            ],
            "text/plain": [
              "   Winner  First_pokemon  Second_pokemon\n",
              "0     382            382             636\n",
              "1     278            278             404\n",
              "2     557             88             557\n",
              "3     366            366             345\n",
              "4     457            457             356"
            ]
          },
          "metadata": {
            "tags": []
          },
          "execution_count": 335
        }
      ]
    },
    {
      "cell_type": "code",
      "metadata": {
        "id": "YbuadCyMFToq",
        "colab": {
          "base_uri": "https://localhost:8080/"
        },
        "outputId": "85f0484f-605d-4922-9e83-333337084313"
      },
      "source": [
        "#visualizzazione della lista delle feature\n",
        "train.columns"
      ],
      "execution_count": 336,
      "outputs": [
        {
          "output_type": "execute_result",
          "data": {
            "text/plain": [
              "Index(['Winner', 'First_pokemon', 'Second_pokemon'], dtype='object')"
            ]
          },
          "metadata": {
            "tags": []
          },
          "execution_count": 336
        }
      ]
    },
    {
      "cell_type": "code",
      "metadata": {
        "id": "ABhxmUvbFTos",
        "colab": {
          "base_uri": "https://localhost:8080/",
          "height": 297
        },
        "outputId": "40fd3cf6-d8fe-4bba-e4f2-f1065acd6417"
      },
      "source": [
        "train.describe(include=\"all\")"
      ],
      "execution_count": 337,
      "outputs": [
        {
          "output_type": "execute_result",
          "data": {
            "text/html": [
              "<div>\n",
              "<style scoped>\n",
              "    .dataframe tbody tr th:only-of-type {\n",
              "        vertical-align: middle;\n",
              "    }\n",
              "\n",
              "    .dataframe tbody tr th {\n",
              "        vertical-align: top;\n",
              "    }\n",
              "\n",
              "    .dataframe thead th {\n",
              "        text-align: right;\n",
              "    }\n",
              "</style>\n",
              "<table border=\"1\" class=\"dataframe\">\n",
              "  <thead>\n",
              "    <tr style=\"text-align: right;\">\n",
              "      <th></th>\n",
              "      <th>Winner</th>\n",
              "      <th>First_pokemon</th>\n",
              "      <th>Second_pokemon</th>\n",
              "    </tr>\n",
              "  </thead>\n",
              "  <tbody>\n",
              "    <tr>\n",
              "      <th>count</th>\n",
              "      <td>32000.000000</td>\n",
              "      <td>32000.000000</td>\n",
              "      <td>32000.000000</td>\n",
              "    </tr>\n",
              "    <tr>\n",
              "      <th>mean</th>\n",
              "      <td>409.861094</td>\n",
              "      <td>402.504188</td>\n",
              "      <td>402.972438</td>\n",
              "    </tr>\n",
              "    <tr>\n",
              "      <th>std</th>\n",
              "      <td>231.054139</td>\n",
              "      <td>229.858711</td>\n",
              "      <td>229.932855</td>\n",
              "    </tr>\n",
              "    <tr>\n",
              "      <th>min</th>\n",
              "      <td>1.000000</td>\n",
              "      <td>1.000000</td>\n",
              "      <td>1.000000</td>\n",
              "    </tr>\n",
              "    <tr>\n",
              "      <th>25%</th>\n",
              "      <td>207.000000</td>\n",
              "      <td>204.000000</td>\n",
              "      <td>207.000000</td>\n",
              "    </tr>\n",
              "    <tr>\n",
              "      <th>50%</th>\n",
              "      <td>423.000000</td>\n",
              "      <td>402.000000</td>\n",
              "      <td>403.000000</td>\n",
              "    </tr>\n",
              "    <tr>\n",
              "      <th>75%</th>\n",
              "      <td>607.000000</td>\n",
              "      <td>600.250000</td>\n",
              "      <td>602.000000</td>\n",
              "    </tr>\n",
              "    <tr>\n",
              "      <th>max</th>\n",
              "      <td>800.000000</td>\n",
              "      <td>800.000000</td>\n",
              "      <td>800.000000</td>\n",
              "    </tr>\n",
              "  </tbody>\n",
              "</table>\n",
              "</div>"
            ],
            "text/plain": [
              "             Winner  First_pokemon  Second_pokemon\n",
              "count  32000.000000   32000.000000    32000.000000\n",
              "mean     409.861094     402.504188      402.972438\n",
              "std      231.054139     229.858711      229.932855\n",
              "min        1.000000       1.000000        1.000000\n",
              "25%      207.000000     204.000000      207.000000\n",
              "50%      423.000000     402.000000      403.000000\n",
              "75%      607.000000     600.250000      602.000000\n",
              "max      800.000000     800.000000      800.000000"
            ]
          },
          "metadata": {
            "tags": []
          },
          "execution_count": 337
        }
      ]
    },
    {
      "cell_type": "code",
      "metadata": {
        "id": "_u_9D3DRFTos",
        "colab": {
          "base_uri": "https://localhost:8080/"
        },
        "outputId": "c3053cde-0d02-4d5d-9da5-a81eb7d38a7e"
      },
      "source": [
        "train.info()"
      ],
      "execution_count": 338,
      "outputs": [
        {
          "output_type": "stream",
          "text": [
            "<class 'pandas.core.frame.DataFrame'>\n",
            "RangeIndex: 32000 entries, 0 to 31999\n",
            "Data columns (total 3 columns):\n",
            " #   Column          Non-Null Count  Dtype\n",
            "---  ------          --------------  -----\n",
            " 0   Winner          32000 non-null  int64\n",
            " 1   First_pokemon   32000 non-null  int64\n",
            " 2   Second_pokemon  32000 non-null  int64\n",
            "dtypes: int64(3)\n",
            "memory usage: 750.1 KB\n"
          ],
          "name": "stdout"
        }
      ]
    },
    {
      "cell_type": "code",
      "metadata": {
        "id": "9Yep_nVLFTos",
        "colab": {
          "base_uri": "https://localhost:8080/"
        },
        "outputId": "40cdedb3-6a2f-4793-e790-15c3e4b6334e"
      },
      "source": [
        "#verifico se ci sono valori nulli\n",
        "pd.isnull(train).sum()"
      ],
      "execution_count": 339,
      "outputs": [
        {
          "output_type": "execute_result",
          "data": {
            "text/plain": [
              "Winner            0\n",
              "First_pokemon     0\n",
              "Second_pokemon    0\n",
              "dtype: int64"
            ]
          },
          "metadata": {
            "tags": []
          },
          "execution_count": 339
        }
      ]
    },
    {
      "cell_type": "code",
      "metadata": {
        "id": "BDLqJDWHFTot",
        "colab": {
          "base_uri": "https://localhost:8080/",
          "height": 669
        },
        "outputId": "8fb8e183-2bce-48b5-fea2-f2fbf94de97a"
      },
      "source": [
        "train.sample(20)"
      ],
      "execution_count": 340,
      "outputs": [
        {
          "output_type": "execute_result",
          "data": {
            "text/html": [
              "<div>\n",
              "<style scoped>\n",
              "    .dataframe tbody tr th:only-of-type {\n",
              "        vertical-align: middle;\n",
              "    }\n",
              "\n",
              "    .dataframe tbody tr th {\n",
              "        vertical-align: top;\n",
              "    }\n",
              "\n",
              "    .dataframe thead th {\n",
              "        text-align: right;\n",
              "    }\n",
              "</style>\n",
              "<table border=\"1\" class=\"dataframe\">\n",
              "  <thead>\n",
              "    <tr style=\"text-align: right;\">\n",
              "      <th></th>\n",
              "      <th>Winner</th>\n",
              "      <th>First_pokemon</th>\n",
              "      <th>Second_pokemon</th>\n",
              "    </tr>\n",
              "  </thead>\n",
              "  <tbody>\n",
              "    <tr>\n",
              "      <th>20835</th>\n",
              "      <td>451</td>\n",
              "      <td>189</td>\n",
              "      <td>451</td>\n",
              "    </tr>\n",
              "    <tr>\n",
              "      <th>7528</th>\n",
              "      <td>502</td>\n",
              "      <td>683</td>\n",
              "      <td>502</td>\n",
              "    </tr>\n",
              "    <tr>\n",
              "      <th>2405</th>\n",
              "      <td>92</td>\n",
              "      <td>92</td>\n",
              "      <td>676</td>\n",
              "    </tr>\n",
              "    <tr>\n",
              "      <th>20199</th>\n",
              "      <td>606</td>\n",
              "      <td>729</td>\n",
              "      <td>606</td>\n",
              "    </tr>\n",
              "    <tr>\n",
              "      <th>7749</th>\n",
              "      <td>451</td>\n",
              "      <td>283</td>\n",
              "      <td>451</td>\n",
              "    </tr>\n",
              "    <tr>\n",
              "      <th>26126</th>\n",
              "      <td>132</td>\n",
              "      <td>132</td>\n",
              "      <td>29</td>\n",
              "    </tr>\n",
              "    <tr>\n",
              "      <th>761</th>\n",
              "      <td>59</td>\n",
              "      <td>468</td>\n",
              "      <td>59</td>\n",
              "    </tr>\n",
              "    <tr>\n",
              "      <th>29289</th>\n",
              "      <td>425</td>\n",
              "      <td>425</td>\n",
              "      <td>364</td>\n",
              "    </tr>\n",
              "    <tr>\n",
              "      <th>18798</th>\n",
              "      <td>647</td>\n",
              "      <td>200</td>\n",
              "      <td>647</td>\n",
              "    </tr>\n",
              "    <tr>\n",
              "      <th>10774</th>\n",
              "      <td>550</td>\n",
              "      <td>105</td>\n",
              "      <td>550</td>\n",
              "    </tr>\n",
              "    <tr>\n",
              "      <th>24794</th>\n",
              "      <td>251</td>\n",
              "      <td>251</td>\n",
              "      <td>378</td>\n",
              "    </tr>\n",
              "    <tr>\n",
              "      <th>4215</th>\n",
              "      <td>271</td>\n",
              "      <td>53</td>\n",
              "      <td>271</td>\n",
              "    </tr>\n",
              "    <tr>\n",
              "      <th>9176</th>\n",
              "      <td>799</td>\n",
              "      <td>333</td>\n",
              "      <td>799</td>\n",
              "    </tr>\n",
              "    <tr>\n",
              "      <th>26101</th>\n",
              "      <td>494</td>\n",
              "      <td>494</td>\n",
              "      <td>384</td>\n",
              "    </tr>\n",
              "    <tr>\n",
              "      <th>7363</th>\n",
              "      <td>461</td>\n",
              "      <td>653</td>\n",
              "      <td>461</td>\n",
              "    </tr>\n",
              "    <tr>\n",
              "      <th>9417</th>\n",
              "      <td>775</td>\n",
              "      <td>775</td>\n",
              "      <td>88</td>\n",
              "    </tr>\n",
              "    <tr>\n",
              "      <th>9057</th>\n",
              "      <td>747</td>\n",
              "      <td>747</td>\n",
              "      <td>255</td>\n",
              "    </tr>\n",
              "    <tr>\n",
              "      <th>22063</th>\n",
              "      <td>84</td>\n",
              "      <td>84</td>\n",
              "      <td>242</td>\n",
              "    </tr>\n",
              "    <tr>\n",
              "      <th>29430</th>\n",
              "      <td>108</td>\n",
              "      <td>108</td>\n",
              "      <td>578</td>\n",
              "    </tr>\n",
              "    <tr>\n",
              "      <th>9008</th>\n",
              "      <td>382</td>\n",
              "      <td>361</td>\n",
              "      <td>382</td>\n",
              "    </tr>\n",
              "  </tbody>\n",
              "</table>\n",
              "</div>"
            ],
            "text/plain": [
              "       Winner  First_pokemon  Second_pokemon\n",
              "20835     451            189             451\n",
              "7528      502            683             502\n",
              "2405       92             92             676\n",
              "20199     606            729             606\n",
              "7749      451            283             451\n",
              "26126     132            132              29\n",
              "761        59            468              59\n",
              "29289     425            425             364\n",
              "18798     647            200             647\n",
              "10774     550            105             550\n",
              "24794     251            251             378\n",
              "4215      271             53             271\n",
              "9176      799            333             799\n",
              "26101     494            494             384\n",
              "7363      461            653             461\n",
              "9417      775            775              88\n",
              "9057      747            747             255\n",
              "22063      84             84             242\n",
              "29430     108            108             578\n",
              "9008      382            361             382"
            ]
          },
          "metadata": {
            "tags": []
          },
          "execution_count": 340
        }
      ]
    },
    {
      "cell_type": "markdown",
      "metadata": {
        "id": "mP0oX0eKXAm7"
      },
      "source": [
        "####Stampe di carattere generale delle stats delle creature (pokemon.csv)"
      ]
    },
    {
      "cell_type": "code",
      "metadata": {
        "id": "uX2i5qOqFTou",
        "colab": {
          "base_uri": "https://localhost:8080/",
          "height": 204
        },
        "outputId": "d0a6df65-fd4a-4517-95e8-74a18f7930c3"
      },
      "source": [
        "#visualizzazione delle prime righe del pokemon.csv\n",
        "pokemon.head(5)"
      ],
      "execution_count": 341,
      "outputs": [
        {
          "output_type": "execute_result",
          "data": {
            "text/html": [
              "<div>\n",
              "<style scoped>\n",
              "    .dataframe tbody tr th:only-of-type {\n",
              "        vertical-align: middle;\n",
              "    }\n",
              "\n",
              "    .dataframe tbody tr th {\n",
              "        vertical-align: top;\n",
              "    }\n",
              "\n",
              "    .dataframe thead th {\n",
              "        text-align: right;\n",
              "    }\n",
              "</style>\n",
              "<table border=\"1\" class=\"dataframe\">\n",
              "  <thead>\n",
              "    <tr style=\"text-align: right;\">\n",
              "      <th></th>\n",
              "      <th>#</th>\n",
              "      <th>Name</th>\n",
              "      <th>Type 1</th>\n",
              "      <th>Type 2</th>\n",
              "      <th>HP</th>\n",
              "      <th>Attack</th>\n",
              "      <th>Defense</th>\n",
              "      <th>Sp. Atk</th>\n",
              "      <th>Sp. Def</th>\n",
              "      <th>Speed</th>\n",
              "      <th>Generation</th>\n",
              "      <th>Legendary</th>\n",
              "    </tr>\n",
              "  </thead>\n",
              "  <tbody>\n",
              "    <tr>\n",
              "      <th>0</th>\n",
              "      <td>1</td>\n",
              "      <td>Bulbasaur</td>\n",
              "      <td>Grass</td>\n",
              "      <td>Poison</td>\n",
              "      <td>45</td>\n",
              "      <td>49</td>\n",
              "      <td>49</td>\n",
              "      <td>65</td>\n",
              "      <td>65</td>\n",
              "      <td>45</td>\n",
              "      <td>1</td>\n",
              "      <td>False</td>\n",
              "    </tr>\n",
              "    <tr>\n",
              "      <th>1</th>\n",
              "      <td>2</td>\n",
              "      <td>Ivysaur</td>\n",
              "      <td>Grass</td>\n",
              "      <td>Poison</td>\n",
              "      <td>60</td>\n",
              "      <td>62</td>\n",
              "      <td>63</td>\n",
              "      <td>80</td>\n",
              "      <td>80</td>\n",
              "      <td>60</td>\n",
              "      <td>1</td>\n",
              "      <td>False</td>\n",
              "    </tr>\n",
              "    <tr>\n",
              "      <th>2</th>\n",
              "      <td>3</td>\n",
              "      <td>Venusaur</td>\n",
              "      <td>Grass</td>\n",
              "      <td>Poison</td>\n",
              "      <td>80</td>\n",
              "      <td>82</td>\n",
              "      <td>83</td>\n",
              "      <td>100</td>\n",
              "      <td>100</td>\n",
              "      <td>80</td>\n",
              "      <td>1</td>\n",
              "      <td>False</td>\n",
              "    </tr>\n",
              "    <tr>\n",
              "      <th>3</th>\n",
              "      <td>4</td>\n",
              "      <td>Mega Venusaur</td>\n",
              "      <td>Grass</td>\n",
              "      <td>Poison</td>\n",
              "      <td>80</td>\n",
              "      <td>100</td>\n",
              "      <td>123</td>\n",
              "      <td>122</td>\n",
              "      <td>120</td>\n",
              "      <td>80</td>\n",
              "      <td>1</td>\n",
              "      <td>False</td>\n",
              "    </tr>\n",
              "    <tr>\n",
              "      <th>4</th>\n",
              "      <td>5</td>\n",
              "      <td>Charmander</td>\n",
              "      <td>Fire</td>\n",
              "      <td>NaN</td>\n",
              "      <td>39</td>\n",
              "      <td>52</td>\n",
              "      <td>43</td>\n",
              "      <td>60</td>\n",
              "      <td>50</td>\n",
              "      <td>65</td>\n",
              "      <td>1</td>\n",
              "      <td>False</td>\n",
              "    </tr>\n",
              "  </tbody>\n",
              "</table>\n",
              "</div>"
            ],
            "text/plain": [
              "   #           Name Type 1  Type 2  ...  Sp. Def  Speed  Generation  Legendary\n",
              "0  1      Bulbasaur  Grass  Poison  ...       65     45           1      False\n",
              "1  2        Ivysaur  Grass  Poison  ...       80     60           1      False\n",
              "2  3       Venusaur  Grass  Poison  ...      100     80           1      False\n",
              "3  4  Mega Venusaur  Grass  Poison  ...      120     80           1      False\n",
              "4  5     Charmander   Fire     NaN  ...       50     65           1      False\n",
              "\n",
              "[5 rows x 12 columns]"
            ]
          },
          "metadata": {
            "tags": []
          },
          "execution_count": 341
        }
      ]
    },
    {
      "cell_type": "code",
      "metadata": {
        "colab": {
          "base_uri": "https://localhost:8080/"
        },
        "id": "E-7bjWdtYWNm",
        "outputId": "7d0b20fe-fc54-42cc-9006-4a0b6f709701"
      },
      "source": [
        "#visualizzazione della lista delle feature\n",
        "pokemon.columns"
      ],
      "execution_count": 342,
      "outputs": [
        {
          "output_type": "execute_result",
          "data": {
            "text/plain": [
              "Index(['#', 'Name', 'Type 1', 'Type 2', 'HP', 'Attack', 'Defense', 'Sp. Atk',\n",
              "       'Sp. Def', 'Speed', 'Generation', 'Legendary'],\n",
              "      dtype='object')"
            ]
          },
          "metadata": {
            "tags": []
          },
          "execution_count": 342
        }
      ]
    },
    {
      "cell_type": "markdown",
      "metadata": {
        "id": "4wCXwkOUx5vR"
      },
      "source": [
        "#####Rename colonne "
      ]
    },
    {
      "cell_type": "code",
      "metadata": {
        "id": "yaV9EIU3FTot"
      },
      "source": [
        "#Dalla stampa precedente si evince che si può rinominare la colonna degli id dei pokemon, chiamate #, in ID.\n",
        "#Successivamente si rinominano anche le colonne Type 1 e Type 2 in Type1 e Type2 rispettivamente \n",
        "#(per evitare nei passaggi successivi eventuali errori dovuti alla presenza dello spazio nel nome)\n",
        "pokemon = pokemon.rename(columns={'#': 'ID'})\n",
        "pokemon = pokemon.rename(columns={'Type 1': 'Type1'})\n",
        "pokemon = pokemon.rename(columns={'Type 2': 'Type2'})"
      ],
      "execution_count": 343,
      "outputs": []
    },
    {
      "cell_type": "code",
      "metadata": {
        "id": "ZwNr7keOFTou",
        "colab": {
          "base_uri": "https://localhost:8080/",
          "height": 444
        },
        "outputId": "da9e3e6e-8b33-44df-c923-5439212e822c"
      },
      "source": [
        "pokemon.describe(include='all')"
      ],
      "execution_count": 344,
      "outputs": [
        {
          "output_type": "execute_result",
          "data": {
            "text/html": [
              "<div>\n",
              "<style scoped>\n",
              "    .dataframe tbody tr th:only-of-type {\n",
              "        vertical-align: middle;\n",
              "    }\n",
              "\n",
              "    .dataframe tbody tr th {\n",
              "        vertical-align: top;\n",
              "    }\n",
              "\n",
              "    .dataframe thead th {\n",
              "        text-align: right;\n",
              "    }\n",
              "</style>\n",
              "<table border=\"1\" class=\"dataframe\">\n",
              "  <thead>\n",
              "    <tr style=\"text-align: right;\">\n",
              "      <th></th>\n",
              "      <th>ID</th>\n",
              "      <th>Name</th>\n",
              "      <th>Type1</th>\n",
              "      <th>Type2</th>\n",
              "      <th>HP</th>\n",
              "      <th>Attack</th>\n",
              "      <th>Defense</th>\n",
              "      <th>Sp. Atk</th>\n",
              "      <th>Sp. Def</th>\n",
              "      <th>Speed</th>\n",
              "      <th>Generation</th>\n",
              "      <th>Legendary</th>\n",
              "    </tr>\n",
              "  </thead>\n",
              "  <tbody>\n",
              "    <tr>\n",
              "      <th>count</th>\n",
              "      <td>800.0000</td>\n",
              "      <td>799</td>\n",
              "      <td>800</td>\n",
              "      <td>414</td>\n",
              "      <td>800.000000</td>\n",
              "      <td>800.000000</td>\n",
              "      <td>800.000000</td>\n",
              "      <td>800.000000</td>\n",
              "      <td>800.000000</td>\n",
              "      <td>800.000000</td>\n",
              "      <td>800.00000</td>\n",
              "      <td>800</td>\n",
              "    </tr>\n",
              "    <tr>\n",
              "      <th>unique</th>\n",
              "      <td>NaN</td>\n",
              "      <td>799</td>\n",
              "      <td>18</td>\n",
              "      <td>18</td>\n",
              "      <td>NaN</td>\n",
              "      <td>NaN</td>\n",
              "      <td>NaN</td>\n",
              "      <td>NaN</td>\n",
              "      <td>NaN</td>\n",
              "      <td>NaN</td>\n",
              "      <td>NaN</td>\n",
              "      <td>2</td>\n",
              "    </tr>\n",
              "    <tr>\n",
              "      <th>top</th>\n",
              "      <td>NaN</td>\n",
              "      <td>Aegislash Blade Forme</td>\n",
              "      <td>Water</td>\n",
              "      <td>Flying</td>\n",
              "      <td>NaN</td>\n",
              "      <td>NaN</td>\n",
              "      <td>NaN</td>\n",
              "      <td>NaN</td>\n",
              "      <td>NaN</td>\n",
              "      <td>NaN</td>\n",
              "      <td>NaN</td>\n",
              "      <td>False</td>\n",
              "    </tr>\n",
              "    <tr>\n",
              "      <th>freq</th>\n",
              "      <td>NaN</td>\n",
              "      <td>1</td>\n",
              "      <td>112</td>\n",
              "      <td>97</td>\n",
              "      <td>NaN</td>\n",
              "      <td>NaN</td>\n",
              "      <td>NaN</td>\n",
              "      <td>NaN</td>\n",
              "      <td>NaN</td>\n",
              "      <td>NaN</td>\n",
              "      <td>NaN</td>\n",
              "      <td>735</td>\n",
              "    </tr>\n",
              "    <tr>\n",
              "      <th>mean</th>\n",
              "      <td>400.5000</td>\n",
              "      <td>NaN</td>\n",
              "      <td>NaN</td>\n",
              "      <td>NaN</td>\n",
              "      <td>69.258750</td>\n",
              "      <td>79.001250</td>\n",
              "      <td>73.842500</td>\n",
              "      <td>72.820000</td>\n",
              "      <td>71.902500</td>\n",
              "      <td>68.277500</td>\n",
              "      <td>3.32375</td>\n",
              "      <td>NaN</td>\n",
              "    </tr>\n",
              "    <tr>\n",
              "      <th>std</th>\n",
              "      <td>231.0844</td>\n",
              "      <td>NaN</td>\n",
              "      <td>NaN</td>\n",
              "      <td>NaN</td>\n",
              "      <td>25.534669</td>\n",
              "      <td>32.457366</td>\n",
              "      <td>31.183501</td>\n",
              "      <td>32.722294</td>\n",
              "      <td>27.828916</td>\n",
              "      <td>29.060474</td>\n",
              "      <td>1.66129</td>\n",
              "      <td>NaN</td>\n",
              "    </tr>\n",
              "    <tr>\n",
              "      <th>min</th>\n",
              "      <td>1.0000</td>\n",
              "      <td>NaN</td>\n",
              "      <td>NaN</td>\n",
              "      <td>NaN</td>\n",
              "      <td>1.000000</td>\n",
              "      <td>5.000000</td>\n",
              "      <td>5.000000</td>\n",
              "      <td>10.000000</td>\n",
              "      <td>20.000000</td>\n",
              "      <td>5.000000</td>\n",
              "      <td>1.00000</td>\n",
              "      <td>NaN</td>\n",
              "    </tr>\n",
              "    <tr>\n",
              "      <th>25%</th>\n",
              "      <td>200.7500</td>\n",
              "      <td>NaN</td>\n",
              "      <td>NaN</td>\n",
              "      <td>NaN</td>\n",
              "      <td>50.000000</td>\n",
              "      <td>55.000000</td>\n",
              "      <td>50.000000</td>\n",
              "      <td>49.750000</td>\n",
              "      <td>50.000000</td>\n",
              "      <td>45.000000</td>\n",
              "      <td>2.00000</td>\n",
              "      <td>NaN</td>\n",
              "    </tr>\n",
              "    <tr>\n",
              "      <th>50%</th>\n",
              "      <td>400.5000</td>\n",
              "      <td>NaN</td>\n",
              "      <td>NaN</td>\n",
              "      <td>NaN</td>\n",
              "      <td>65.000000</td>\n",
              "      <td>75.000000</td>\n",
              "      <td>70.000000</td>\n",
              "      <td>65.000000</td>\n",
              "      <td>70.000000</td>\n",
              "      <td>65.000000</td>\n",
              "      <td>3.00000</td>\n",
              "      <td>NaN</td>\n",
              "    </tr>\n",
              "    <tr>\n",
              "      <th>75%</th>\n",
              "      <td>600.2500</td>\n",
              "      <td>NaN</td>\n",
              "      <td>NaN</td>\n",
              "      <td>NaN</td>\n",
              "      <td>80.000000</td>\n",
              "      <td>100.000000</td>\n",
              "      <td>90.000000</td>\n",
              "      <td>95.000000</td>\n",
              "      <td>90.000000</td>\n",
              "      <td>90.000000</td>\n",
              "      <td>5.00000</td>\n",
              "      <td>NaN</td>\n",
              "    </tr>\n",
              "    <tr>\n",
              "      <th>max</th>\n",
              "      <td>800.0000</td>\n",
              "      <td>NaN</td>\n",
              "      <td>NaN</td>\n",
              "      <td>NaN</td>\n",
              "      <td>255.000000</td>\n",
              "      <td>190.000000</td>\n",
              "      <td>230.000000</td>\n",
              "      <td>194.000000</td>\n",
              "      <td>230.000000</td>\n",
              "      <td>180.000000</td>\n",
              "      <td>6.00000</td>\n",
              "      <td>NaN</td>\n",
              "    </tr>\n",
              "  </tbody>\n",
              "</table>\n",
              "</div>"
            ],
            "text/plain": [
              "              ID                   Name  ... Generation Legendary\n",
              "count   800.0000                    799  ...  800.00000       800\n",
              "unique       NaN                    799  ...        NaN         2\n",
              "top          NaN  Aegislash Blade Forme  ...        NaN     False\n",
              "freq         NaN                      1  ...        NaN       735\n",
              "mean    400.5000                    NaN  ...    3.32375       NaN\n",
              "std     231.0844                    NaN  ...    1.66129       NaN\n",
              "min       1.0000                    NaN  ...    1.00000       NaN\n",
              "25%     200.7500                    NaN  ...    2.00000       NaN\n",
              "50%     400.5000                    NaN  ...    3.00000       NaN\n",
              "75%     600.2500                    NaN  ...    5.00000       NaN\n",
              "max     800.0000                    NaN  ...    6.00000       NaN\n",
              "\n",
              "[11 rows x 12 columns]"
            ]
          },
          "metadata": {
            "tags": []
          },
          "execution_count": 344
        }
      ]
    },
    {
      "cell_type": "code",
      "metadata": {
        "id": "Q4XGar-fFTou",
        "colab": {
          "base_uri": "https://localhost:8080/"
        },
        "outputId": "574b43b1-6516-48e2-a442-ae4badd3a484"
      },
      "source": [
        "pokemon.info()"
      ],
      "execution_count": 345,
      "outputs": [
        {
          "output_type": "stream",
          "text": [
            "<class 'pandas.core.frame.DataFrame'>\n",
            "RangeIndex: 800 entries, 0 to 799\n",
            "Data columns (total 12 columns):\n",
            " #   Column      Non-Null Count  Dtype \n",
            "---  ------      --------------  ----- \n",
            " 0   ID          800 non-null    int64 \n",
            " 1   Name        799 non-null    object\n",
            " 2   Type1       800 non-null    object\n",
            " 3   Type2       414 non-null    object\n",
            " 4   HP          800 non-null    int64 \n",
            " 5   Attack      800 non-null    int64 \n",
            " 6   Defense     800 non-null    int64 \n",
            " 7   Sp. Atk     800 non-null    int64 \n",
            " 8   Sp. Def     800 non-null    int64 \n",
            " 9   Speed       800 non-null    int64 \n",
            " 10  Generation  800 non-null    int64 \n",
            " 11  Legendary   800 non-null    bool  \n",
            "dtypes: bool(1), int64(8), object(3)\n",
            "memory usage: 69.7+ KB\n"
          ],
          "name": "stdout"
        }
      ]
    },
    {
      "cell_type": "code",
      "metadata": {
        "id": "tXo75N6LFTov",
        "colab": {
          "base_uri": "https://localhost:8080/"
        },
        "outputId": "6170a9f7-bf30-4c6b-8bcb-2b422ddabc86"
      },
      "source": [
        "#verifica se ci sono valori nulli\n",
        "pd.isnull(pokemon).sum()"
      ],
      "execution_count": 346,
      "outputs": [
        {
          "output_type": "execute_result",
          "data": {
            "text/plain": [
              "ID              0\n",
              "Name            1\n",
              "Type1           0\n",
              "Type2         386\n",
              "HP              0\n",
              "Attack          0\n",
              "Defense         0\n",
              "Sp. Atk         0\n",
              "Sp. Def         0\n",
              "Speed           0\n",
              "Generation      0\n",
              "Legendary       0\n",
              "dtype: int64"
            ]
          },
          "metadata": {
            "tags": []
          },
          "execution_count": 346
        }
      ]
    },
    {
      "cell_type": "markdown",
      "metadata": {
        "id": "OJnVE5KTZcPj"
      },
      "source": [
        "######Sono presenti circa 400 valori nulli per la features Type2, per capire come gestire questa situazione continuo effettuando altra analisi."
      ]
    },
    {
      "cell_type": "markdown",
      "metadata": {
        "id": "puIxZV5maM4Z"
      },
      "source": [
        "###Visualizzazione delle features dei pokemon attraverso grafici"
      ]
    },
    {
      "cell_type": "markdown",
      "metadata": {
        "id": "FMZNJ8bpccjz"
      },
      "source": [
        "####Stampa del numero dei pokemon raggruppati per Generation"
      ]
    },
    {
      "cell_type": "code",
      "metadata": {
        "id": "p0LV_BbdFTov",
        "colab": {
          "base_uri": "https://localhost:8080/",
          "height": 279
        },
        "outputId": "5d6524c7-3382-4339-cb3e-6e0414465821"
      },
      "source": [
        "sns.countplot(x=pokemon[\"Generation\"])\n",
        "plt.show()"
      ],
      "execution_count": 347,
      "outputs": [
        {
          "output_type": "display_data",
          "data": {
            "image/png": "[encoded data removed]",
            "text/plain": [
              "<Figure size 432x288 with 1 Axes>"
            ]
          },
          "metadata": {
            "tags": [],
            "needs_background": "light"
          }
        }
      ]
    },
    {
      "cell_type": "markdown",
      "metadata": {
        "id": "L4mC9n7mcP-8"
      },
      "source": [
        "######Si evince che i pokemon sono equamente distribuiti tra le diverse Generation\n",
        "\n"
      ]
    },
    {
      "cell_type": "markdown",
      "metadata": {
        "id": "pGLr2gRPj2yR"
      },
      "source": [
        "####Stampa del numero dei pokemon raggruppati per Tipologia di Primo Attacco"
      ]
    },
    {
      "cell_type": "code",
      "metadata": {
        "colab": {
          "base_uri": "https://localhost:8080/",
          "height": 497
        },
        "id": "9sd8-KFkjTQl",
        "outputId": "6765a913-fb73-4a56-fe07-d6c769db8909"
      },
      "source": [
        "plt.figure(figsize=(14, 8))\n",
        "sns.countplot(x=pokemon[\"Type1\"])\n",
        "plt.show()"
      ],
      "execution_count": 348,
      "outputs": [
        {
          "output_type": "display_data",
          "data": {
            "image/png": "[encoded data removed]",
            "text/plain": [
              "<Figure size 1008x576 with 1 Axes>"
            ]
          },
          "metadata": {
            "tags": [],
            "needs_background": "light"
          }
        }
      ]
    },
    {
      "cell_type": "markdown",
      "metadata": {
        "id": "C8qR7rddlqRt"
      },
      "source": [
        "####Stampa del numero dei pokemon raggruppati per Tipologia di Secondo Attacco"
      ]
    },
    {
      "cell_type": "code",
      "metadata": {
        "colab": {
          "base_uri": "https://localhost:8080/",
          "height": 497
        },
        "id": "GtQhnIOSkIrJ",
        "outputId": "cfdf3680-949a-4ca6-f9da-ca792ef320b7"
      },
      "source": [
        "plt.figure(figsize=(14, 8))\n",
        "sns.countplot(x=pokemon[\"Type2\"])\n",
        "plt.show()"
      ],
      "execution_count": 349,
      "outputs": [
        {
          "output_type": "display_data",
          "data": {
            "image/png": "[encoded data removed]",
            "text/plain": [
              "<Figure size 1008x576 with 1 Axes>"
            ]
          },
          "metadata": {
            "tags": [],
            "needs_background": "light"
          }
        }
      ]
    },
    {
      "cell_type": "markdown",
      "metadata": {
        "id": "QcR43XznltzM"
      },
      "source": [
        "#####In questo caso risulta più evidente che il secondo attacco è tipicamente di tipo 'Flying'"
      ]
    },
    {
      "cell_type": "markdown",
      "metadata": {
        "id": "aJVPYoTAcsbs"
      },
      "source": [
        "####Stampa del numero di pokemon leggendari e non leggendari"
      ]
    },
    {
      "cell_type": "code",
      "metadata": {
        "id": "FTsqbYARFTov",
        "colab": {
          "base_uri": "https://localhost:8080/",
          "height": 279
        },
        "outputId": "96d3a699-204b-41b7-af26-c360c32823a4"
      },
      "source": [
        "sns.countplot(x=pokemon[\"Legendary\"], palette='Set3')\n",
        "plt.show()"
      ],
      "execution_count": 350,
      "outputs": [
        {
          "output_type": "display_data",
          "data": {
            "image/png": "[encoded data removed]",
            "text/plain": [
              "<Figure size 432x288 with 1 Axes>"
            ]
          },
          "metadata": {
            "tags": [],
            "needs_background": "light"
          }
        }
      ]
    },
    {
      "cell_type": "markdown",
      "metadata": {
        "id": "cAwptnQMc0t1"
      },
      "source": [
        "#####Si evince che i pokemon leggendari sono molto più rari, circa 1/7"
      ]
    },
    {
      "cell_type": "markdown",
      "metadata": {
        "id": "bbFZmq2LdAPs"
      },
      "source": [
        "####Verifico se esiste qualche correlazione tra il fatto di essere un pokemon leggendario con le altre feautures"
      ]
    },
    {
      "cell_type": "markdown",
      "metadata": {
        "id": "7givnqB5fNUk"
      },
      "source": [
        "#####Legendary vs Attack"
      ]
    },
    {
      "cell_type": "code",
      "metadata": {
        "id": "RaHzXqH2FTow",
        "colab": {
          "base_uri": "https://localhost:8080/",
          "height": 279
        },
        "outputId": "b6a796ed-9f60-4be3-b616-222fdb004308"
      },
      "source": [
        "plt.figure(figsize=(8, 4))\n",
        "sns.boxplot(x='Legendary',y='Attack',data=pokemon, palette='Set3')\n",
        "plt.show()"
      ],
      "execution_count": 351,
      "outputs": [
        {
          "output_type": "display_data",
          "data": {
            "image/png": "[encoded data removed]",
            "text/plain": [
              "<Figure size 576x288 with 1 Axes>"
            ]
          },
          "metadata": {
            "tags": [],
            "needs_background": "light"
          }
        }
      ]
    },
    {
      "cell_type": "markdown",
      "metadata": {
        "id": "aq4GCtWgfdIP"
      },
      "source": [
        "######Mediamente i pokemon leggendari hanno un attacco maggiore, ovvero più forte, rispetto ai non leggendari"
      ]
    },
    {
      "cell_type": "markdown",
      "metadata": {
        "id": "L7APSdqFfots"
      },
      "source": [
        "#####Legendary vs HP"
      ]
    },
    {
      "cell_type": "code",
      "metadata": {
        "id": "aaeJMnFKFTow",
        "colab": {
          "base_uri": "https://localhost:8080/",
          "height": 279
        },
        "outputId": "c3b22f93-e742-4c0a-a69f-7e7da83f1d3a"
      },
      "source": [
        "plt.figure(figsize=(8, 4))\n",
        "sns.boxplot(x='Legendary',y='HP',data=pokemon, palette='Set3')\n",
        "plt.show()"
      ],
      "execution_count": 352,
      "outputs": [
        {
          "output_type": "display_data",
          "data": {
            "image/png": "[encoded data removed]",
            "text/plain": [
              "<Figure size 576x288 with 1 Axes>"
            ]
          },
          "metadata": {
            "tags": [],
            "needs_background": "light"
          }
        }
      ]
    },
    {
      "cell_type": "markdown",
      "metadata": {
        "id": "KBT8rOKNfyls"
      },
      "source": [
        "######Anche in questo caso, mediamente, i pokemon leggendari hanno un HP maggiore, ovvero più punti vita"
      ]
    },
    {
      "cell_type": "markdown",
      "metadata": {
        "id": "vwPkdwG9gM21"
      },
      "source": [
        "#####Legendary vs Defense"
      ]
    },
    {
      "cell_type": "code",
      "metadata": {
        "colab": {
          "base_uri": "https://localhost:8080/",
          "height": 279
        },
        "id": "BY54-Qa5hW9F",
        "outputId": "fb71c6ad-93a8-48e9-b033-25daa987bc20"
      },
      "source": [
        "plt.figure(figsize=(8, 4))\n",
        "sns.boxplot(x='Legendary',y='Defense',data=pokemon, palette='Set3')\n",
        "plt.show()"
      ],
      "execution_count": 353,
      "outputs": [
        {
          "output_type": "display_data",
          "data": {
            "image/png": "[encoded data removed]",
            "text/plain": [
              "<Figure size 576x288 with 1 Axes>"
            ]
          },
          "metadata": {
            "tags": [],
            "needs_background": "light"
          }
        }
      ]
    },
    {
      "cell_type": "markdown",
      "metadata": {
        "id": "zkWGZ9ruhjtO"
      },
      "source": [
        "#####Legendary vs Special Attack"
      ]
    },
    {
      "cell_type": "code",
      "metadata": {
        "colab": {
          "base_uri": "https://localhost:8080/",
          "height": 280
        },
        "id": "FTh_5kW4hn8V",
        "outputId": "7b6d1812-b09e-4496-9b3c-81af25adc57e"
      },
      "source": [
        "plt.figure(figsize=(8, 4))\n",
        "sns.boxplot(x='Legendary',y='Sp. Atk',data=pokemon, palette='Set3')\n",
        "plt.show()"
      ],
      "execution_count": 354,
      "outputs": [
        {
          "output_type": "display_data",
          "data": {
            "image/png": "[encoded data removed]",
            "text/plain": [
              "<Figure size 576x288 with 1 Axes>"
            ]
          },
          "metadata": {
            "tags": [],
            "needs_background": "light"
          }
        }
      ]
    },
    {
      "cell_type": "markdown",
      "metadata": {
        "id": "D6biXr7fm5A9"
      },
      "source": [
        "#####Legendary vs Special Defense"
      ]
    },
    {
      "cell_type": "code",
      "metadata": {
        "colab": {
          "base_uri": "https://localhost:8080/",
          "height": 279
        },
        "id": "tX6heaWKm8RV",
        "outputId": "bf7a9384-55c6-47c7-a25f-59eae23d571d"
      },
      "source": [
        "plt.figure(figsize=(8, 4))\n",
        "sns.boxplot(x='Legendary',y='Sp. Def',data=pokemon, palette='Set3')\n",
        "plt.show()"
      ],
      "execution_count": 355,
      "outputs": [
        {
          "output_type": "display_data",
          "data": {
            "image/png": "[encoded data removed]",
            "text/plain": [
              "<Figure size 576x288 with 1 Axes>"
            ]
          },
          "metadata": {
            "tags": [],
            "needs_background": "light"
          }
        }
      ]
    },
    {
      "cell_type": "markdown",
      "metadata": {
        "id": "yoNGoAeXitCh"
      },
      "source": [
        "#####Da queste analisi risulta che mediamente i pokemon leggendari sono più forti rispetto a quelli non leggendari"
      ]
    },
    {
      "cell_type": "markdown",
      "metadata": {
        "id": "UxozrategCro"
      },
      "source": [
        "####Gestione dei tipi nulli\n"
      ]
    },
    {
      "cell_type": "code",
      "metadata": {
        "id": "lQ6Sm8TBFTow"
      },
      "source": [
        "#cerco di analizzare i dati per capire come gestire i tipi nulli presenti nella features Type2\n",
        "#definisco un DataFrame contenente solo i pokemon che non hanno il secondo attacco\n",
        "type2null = pokemon.loc[pokemon['Type2'].isnull()]"
      ],
      "execution_count": 356,
      "outputs": []
    },
    {
      "cell_type": "code",
      "metadata": {
        "id": "CA4OSMy8FTox",
        "colab": {
          "base_uri": "https://localhost:8080/",
          "height": 419
        },
        "outputId": "43e4ae11-5e2b-47e5-8c4b-404d89ba71af"
      },
      "source": [
        "type2null"
      ],
      "execution_count": 357,
      "outputs": [
        {
          "output_type": "execute_result",
          "data": {
            "text/html": [
              "<div>\n",
              "<style scoped>\n",
              "    .dataframe tbody tr th:only-of-type {\n",
              "        vertical-align: middle;\n",
              "    }\n",
              "\n",
              "    .dataframe tbody tr th {\n",
              "        vertical-align: top;\n",
              "    }\n",
              "\n",
              "    .dataframe thead th {\n",
              "        text-align: right;\n",
              "    }\n",
              "</style>\n",
              "<table border=\"1\" class=\"dataframe\">\n",
              "  <thead>\n",
              "    <tr style=\"text-align: right;\">\n",
              "      <th></th>\n",
              "      <th>ID</th>\n",
              "      <th>Name</th>\n",
              "      <th>Type1</th>\n",
              "      <th>Type2</th>\n",
              "      <th>HP</th>\n",
              "      <th>Attack</th>\n",
              "      <th>Defense</th>\n",
              "      <th>Sp. Atk</th>\n",
              "      <th>Sp. Def</th>\n",
              "      <th>Speed</th>\n",
              "      <th>Generation</th>\n",
              "      <th>Legendary</th>\n",
              "    </tr>\n",
              "  </thead>\n",
              "  <tbody>\n",
              "    <tr>\n",
              "      <th>4</th>\n",
              "      <td>5</td>\n",
              "      <td>Charmander</td>\n",
              "      <td>Fire</td>\n",
              "      <td>NaN</td>\n",
              "      <td>39</td>\n",
              "      <td>52</td>\n",
              "      <td>43</td>\n",
              "      <td>60</td>\n",
              "      <td>50</td>\n",
              "      <td>65</td>\n",
              "      <td>1</td>\n",
              "      <td>False</td>\n",
              "    </tr>\n",
              "    <tr>\n",
              "      <th>5</th>\n",
              "      <td>6</td>\n",
              "      <td>Charmeleon</td>\n",
              "      <td>Fire</td>\n",
              "      <td>NaN</td>\n",
              "      <td>58</td>\n",
              "      <td>64</td>\n",
              "      <td>58</td>\n",
              "      <td>80</td>\n",
              "      <td>65</td>\n",
              "      <td>80</td>\n",
              "      <td>1</td>\n",
              "      <td>False</td>\n",
              "    </tr>\n",
              "    <tr>\n",
              "      <th>9</th>\n",
              "      <td>10</td>\n",
              "      <td>Squirtle</td>\n",
              "      <td>Water</td>\n",
              "      <td>NaN</td>\n",
              "      <td>44</td>\n",
              "      <td>48</td>\n",
              "      <td>65</td>\n",
              "      <td>50</td>\n",
              "      <td>64</td>\n",
              "      <td>43</td>\n",
              "      <td>1</td>\n",
              "      <td>False</td>\n",
              "    </tr>\n",
              "    <tr>\n",
              "      <th>10</th>\n",
              "      <td>11</td>\n",
              "      <td>Wartortle</td>\n",
              "      <td>Water</td>\n",
              "      <td>NaN</td>\n",
              "      <td>59</td>\n",
              "      <td>63</td>\n",
              "      <td>80</td>\n",
              "      <td>65</td>\n",
              "      <td>80</td>\n",
              "      <td>58</td>\n",
              "      <td>1</td>\n",
              "      <td>False</td>\n",
              "    </tr>\n",
              "    <tr>\n",
              "      <th>11</th>\n",
              "      <td>12</td>\n",
              "      <td>Blastoise</td>\n",
              "      <td>Water</td>\n",
              "      <td>NaN</td>\n",
              "      <td>79</td>\n",
              "      <td>83</td>\n",
              "      <td>100</td>\n",
              "      <td>85</td>\n",
              "      <td>105</td>\n",
              "      <td>78</td>\n",
              "      <td>1</td>\n",
              "      <td>False</td>\n",
              "    </tr>\n",
              "    <tr>\n",
              "      <th>...</th>\n",
              "      <td>...</td>\n",
              "      <td>...</td>\n",
              "      <td>...</td>\n",
              "      <td>...</td>\n",
              "      <td>...</td>\n",
              "      <td>...</td>\n",
              "      <td>...</td>\n",
              "      <td>...</td>\n",
              "      <td>...</td>\n",
              "      <td>...</td>\n",
              "      <td>...</td>\n",
              "      <td>...</td>\n",
              "    </tr>\n",
              "    <tr>\n",
              "      <th>775</th>\n",
              "      <td>776</td>\n",
              "      <td>Sliggoo</td>\n",
              "      <td>Dragon</td>\n",
              "      <td>NaN</td>\n",
              "      <td>68</td>\n",
              "      <td>75</td>\n",
              "      <td>53</td>\n",
              "      <td>83</td>\n",
              "      <td>113</td>\n",
              "      <td>60</td>\n",
              "      <td>6</td>\n",
              "      <td>False</td>\n",
              "    </tr>\n",
              "    <tr>\n",
              "      <th>776</th>\n",
              "      <td>777</td>\n",
              "      <td>Goodra</td>\n",
              "      <td>Dragon</td>\n",
              "      <td>NaN</td>\n",
              "      <td>90</td>\n",
              "      <td>100</td>\n",
              "      <td>70</td>\n",
              "      <td>110</td>\n",
              "      <td>150</td>\n",
              "      <td>80</td>\n",
              "      <td>6</td>\n",
              "      <td>False</td>\n",
              "    </tr>\n",
              "    <tr>\n",
              "      <th>788</th>\n",
              "      <td>789</td>\n",
              "      <td>Bergmite</td>\n",
              "      <td>Ice</td>\n",
              "      <td>NaN</td>\n",
              "      <td>55</td>\n",
              "      <td>69</td>\n",
              "      <td>85</td>\n",
              "      <td>32</td>\n",
              "      <td>35</td>\n",
              "      <td>28</td>\n",
              "      <td>6</td>\n",
              "      <td>False</td>\n",
              "    </tr>\n",
              "    <tr>\n",
              "      <th>789</th>\n",
              "      <td>790</td>\n",
              "      <td>Avalugg</td>\n",
              "      <td>Ice</td>\n",
              "      <td>NaN</td>\n",
              "      <td>95</td>\n",
              "      <td>117</td>\n",
              "      <td>184</td>\n",
              "      <td>44</td>\n",
              "      <td>46</td>\n",
              "      <td>28</td>\n",
              "      <td>6</td>\n",
              "      <td>False</td>\n",
              "    </tr>\n",
              "    <tr>\n",
              "      <th>792</th>\n",
              "      <td>793</td>\n",
              "      <td>Xerneas</td>\n",
              "      <td>Fairy</td>\n",
              "      <td>NaN</td>\n",
              "      <td>126</td>\n",
              "      <td>131</td>\n",
              "      <td>95</td>\n",
              "      <td>131</td>\n",
              "      <td>98</td>\n",
              "      <td>99</td>\n",
              "      <td>6</td>\n",
              "      <td>True</td>\n",
              "    </tr>\n",
              "  </tbody>\n",
              "</table>\n",
              "<p>386 rows × 12 columns</p>\n",
              "</div>"
            ],
            "text/plain": [
              "      ID        Name   Type1 Type2  ...  Sp. Def  Speed  Generation  Legendary\n",
              "4      5  Charmander    Fire   NaN  ...       50     65           1      False\n",
              "5      6  Charmeleon    Fire   NaN  ...       65     80           1      False\n",
              "9     10    Squirtle   Water   NaN  ...       64     43           1      False\n",
              "10    11   Wartortle   Water   NaN  ...       80     58           1      False\n",
              "11    12   Blastoise   Water   NaN  ...      105     78           1      False\n",
              "..   ...         ...     ...   ...  ...      ...    ...         ...        ...\n",
              "775  776     Sliggoo  Dragon   NaN  ...      113     60           6      False\n",
              "776  777      Goodra  Dragon   NaN  ...      150     80           6      False\n",
              "788  789    Bergmite     Ice   NaN  ...       35     28           6      False\n",
              "789  790     Avalugg     Ice   NaN  ...       46     28           6      False\n",
              "792  793     Xerneas   Fairy   NaN  ...       98     99           6       True\n",
              "\n",
              "[386 rows x 12 columns]"
            ]
          },
          "metadata": {
            "tags": []
          },
          "execution_count": 357
        }
      ]
    },
    {
      "cell_type": "markdown",
      "metadata": {
        "id": "pOTPDA5e46wZ"
      },
      "source": [
        "######Come sono distribuiti i pokemon senza secondo attacco rispetto alla feature Generation"
      ]
    },
    {
      "cell_type": "code",
      "metadata": {
        "colab": {
          "base_uri": "https://localhost:8080/",
          "height": 279
        },
        "id": "qX1ZeiUgntql",
        "outputId": "ea746508-8f9b-42d1-a6fb-b01c10ebd62d"
      },
      "source": [
        "sns.countplot(x=type2null[\"Generation\"])\n",
        "plt.show()"
      ],
      "execution_count": 358,
      "outputs": [
        {
          "output_type": "display_data",
          "data": {
            "image/png": "[encoded data removed]",
            "text/plain": [
              "<Figure size 432x288 with 1 Axes>"
            ]
          },
          "metadata": {
            "tags": [],
            "needs_background": "light"
          }
        }
      ]
    },
    {
      "cell_type": "markdown",
      "metadata": {
        "id": "TNG8flwJ5IXY"
      },
      "source": [
        "######Come sono distribuiti i pokemon senza secondo attacco rispetto al fatto di essere leggendari o meno"
      ]
    },
    {
      "cell_type": "code",
      "metadata": {
        "id": "ffaMjppbFTox",
        "colab": {
          "base_uri": "https://localhost:8080/",
          "height": 279
        },
        "outputId": "62754eaa-9996-434e-f1c8-e04e71a36866"
      },
      "source": [
        "sns.countplot(x=type2null[\"Legendary\"])\n",
        "plt.show()"
      ],
      "execution_count": 359,
      "outputs": [
        {
          "output_type": "display_data",
          "data": {
            "image/png": "[encoded data removed]",
            "text/plain": [
              "<Figure size 432x288 with 1 Axes>"
            ]
          },
          "metadata": {
            "tags": [],
            "needs_background": "light"
          }
        }
      ]
    },
    {
      "cell_type": "markdown",
      "metadata": {
        "id": "FSNVGCNR5an5"
      },
      "source": [
        "#####I pokemon senza secondo attacco, quale primo attacco hanno?"
      ]
    },
    {
      "cell_type": "code",
      "metadata": {
        "colab": {
          "base_uri": "https://localhost:8080/",
          "height": 497
        },
        "id": "trsLRKZMonYf",
        "outputId": "ca473589-7394-4a72-9172-27b88aee386f"
      },
      "source": [
        "plt.figure(figsize=(14, 8))\n",
        "sns.countplot(x=pokemon[\"Type1\"])\n",
        "plt.show()"
      ],
      "execution_count": 360,
      "outputs": [
        {
          "output_type": "display_data",
          "data": {
            "image/png": "[encoded data removed]",
            "text/plain": [
              "<Figure size 1008x576 with 1 Axes>"
            ]
          },
          "metadata": {
            "tags": [],
            "needs_background": "light"
          }
        }
      ]
    },
    {
      "cell_type": "markdown",
      "metadata": {
        "id": "HNA0yUm95tRS"
      },
      "source": [
        "#####Distribuzione della forza di attacco relativa a pokemon senza il secondo attacco e relativa a tutti i pokemon"
      ]
    },
    {
      "cell_type": "code",
      "metadata": {
        "colab": {
          "base_uri": "https://localhost:8080/",
          "height": 541
        },
        "id": "H7XbGF4royYd",
        "outputId": "ff182b4f-9ad6-4ce0-ea45-5efa4455caf3"
      },
      "source": [
        "sns.lineplot(data=type2null, x=\"ID\", y=\"Attack\")\n",
        "plt.show()\n",
        "\n",
        "sns.lineplot(data=pokemon, x=\"ID\", y=\"Attack\")\n",
        "plt.show()"
      ],
      "execution_count": 361,
      "outputs": [
        {
          "output_type": "display_data",
          "data": {
            "image/png": "[encoded data removed]",
            "text/plain": [
              "<Figure size 432x288 with 1 Axes>"
            ]
          },
          "metadata": {
            "tags": [],
            "needs_background": "light"
          }
        },
        {
          "output_type": "display_data",
          "data": {
            "image/png": "[encoded data removed]",
            "text/plain": [
              "<Figure size 432x288 with 1 Axes>"
            ]
          },
          "metadata": {
            "tags": [],
            "needs_background": "light"
          }
        }
      ]
    },
    {
      "cell_type": "markdown",
      "metadata": {
        "id": "RJ_DtCXk576B"
      },
      "source": [
        "#####Da quello che si evince dai grafici, i pokemon senza secondo attacco sono equamente distribuiti. Questa feautures mancante non dipende dal fatto che non sono stati considerati dei dati, ma dipende dal fatto che alcuni pokemon possono avere solo una tipologia di attacco. Si potrebbe pensare di eliminare la colonna, però scelgo di sostituire i valori Nan con None, per indicare che uno specifico pokemon non ha il secondo attacco."
      ]
    },
    {
      "cell_type": "markdown",
      "metadata": {
        "id": "CAWgLdinxR7v"
      },
      "source": [
        "#####Replacement dei valori nulli di Type2 con 'None'"
      ]
    },
    {
      "cell_type": "code",
      "metadata": {
        "id": "up5rIk2CxRlH"
      },
      "source": [
        "pokemon['Type2'].fillna('None', inplace = True)"
      ],
      "execution_count": 362,
      "outputs": []
    },
    {
      "cell_type": "code",
      "metadata": {
        "colab": {
          "base_uri": "https://localhost:8080/",
          "height": 419
        },
        "id": "-KXcssycyR2H",
        "outputId": "c4041299-7a4f-49c4-91a3-2267399e43f4"
      },
      "source": [
        "pokemon.replace(10)"
      ],
      "execution_count": 363,
      "outputs": [
        {
          "output_type": "execute_result",
          "data": {
            "text/html": [
              "<div>\n",
              "<style scoped>\n",
              "    .dataframe tbody tr th:only-of-type {\n",
              "        vertical-align: middle;\n",
              "    }\n",
              "\n",
              "    .dataframe tbody tr th {\n",
              "        vertical-align: top;\n",
              "    }\n",
              "\n",
              "    .dataframe thead th {\n",
              "        text-align: right;\n",
              "    }\n",
              "</style>\n",
              "<table border=\"1\" class=\"dataframe\">\n",
              "  <thead>\n",
              "    <tr style=\"text-align: right;\">\n",
              "      <th></th>\n",
              "      <th>ID</th>\n",
              "      <th>Name</th>\n",
              "      <th>Type1</th>\n",
              "      <th>Type2</th>\n",
              "      <th>HP</th>\n",
              "      <th>Attack</th>\n",
              "      <th>Defense</th>\n",
              "      <th>Sp. Atk</th>\n",
              "      <th>Sp. Def</th>\n",
              "      <th>Speed</th>\n",
              "      <th>Generation</th>\n",
              "      <th>Legendary</th>\n",
              "    </tr>\n",
              "  </thead>\n",
              "  <tbody>\n",
              "    <tr>\n",
              "      <th>0</th>\n",
              "      <td>1</td>\n",
              "      <td>Bulbasaur</td>\n",
              "      <td>Grass</td>\n",
              "      <td>Poison</td>\n",
              "      <td>45</td>\n",
              "      <td>49</td>\n",
              "      <td>49</td>\n",
              "      <td>65</td>\n",
              "      <td>65</td>\n",
              "      <td>45</td>\n",
              "      <td>1</td>\n",
              "      <td>False</td>\n",
              "    </tr>\n",
              "    <tr>\n",
              "      <th>1</th>\n",
              "      <td>2</td>\n",
              "      <td>Ivysaur</td>\n",
              "      <td>Grass</td>\n",
              "      <td>Poison</td>\n",
              "      <td>60</td>\n",
              "      <td>62</td>\n",
              "      <td>63</td>\n",
              "      <td>80</td>\n",
              "      <td>80</td>\n",
              "      <td>60</td>\n",
              "      <td>1</td>\n",
              "      <td>False</td>\n",
              "    </tr>\n",
              "    <tr>\n",
              "      <th>2</th>\n",
              "      <td>3</td>\n",
              "      <td>Venusaur</td>\n",
              "      <td>Grass</td>\n",
              "      <td>Poison</td>\n",
              "      <td>80</td>\n",
              "      <td>82</td>\n",
              "      <td>83</td>\n",
              "      <td>100</td>\n",
              "      <td>100</td>\n",
              "      <td>80</td>\n",
              "      <td>1</td>\n",
              "      <td>False</td>\n",
              "    </tr>\n",
              "    <tr>\n",
              "      <th>3</th>\n",
              "      <td>4</td>\n",
              "      <td>Mega Venusaur</td>\n",
              "      <td>Grass</td>\n",
              "      <td>Poison</td>\n",
              "      <td>80</td>\n",
              "      <td>100</td>\n",
              "      <td>123</td>\n",
              "      <td>122</td>\n",
              "      <td>120</td>\n",
              "      <td>80</td>\n",
              "      <td>1</td>\n",
              "      <td>False</td>\n",
              "    </tr>\n",
              "    <tr>\n",
              "      <th>4</th>\n",
              "      <td>5</td>\n",
              "      <td>Charmander</td>\n",
              "      <td>Fire</td>\n",
              "      <td>None</td>\n",
              "      <td>39</td>\n",
              "      <td>52</td>\n",
              "      <td>43</td>\n",
              "      <td>60</td>\n",
              "      <td>50</td>\n",
              "      <td>65</td>\n",
              "      <td>1</td>\n",
              "      <td>False</td>\n",
              "    </tr>\n",
              "    <tr>\n",
              "      <th>...</th>\n",
              "      <td>...</td>\n",
              "      <td>...</td>\n",
              "      <td>...</td>\n",
              "      <td>...</td>\n",
              "      <td>...</td>\n",
              "      <td>...</td>\n",
              "      <td>...</td>\n",
              "      <td>...</td>\n",
              "      <td>...</td>\n",
              "      <td>...</td>\n",
              "      <td>...</td>\n",
              "      <td>...</td>\n",
              "    </tr>\n",
              "    <tr>\n",
              "      <th>795</th>\n",
              "      <td>796</td>\n",
              "      <td>Diancie</td>\n",
              "      <td>Rock</td>\n",
              "      <td>Fairy</td>\n",
              "      <td>50</td>\n",
              "      <td>100</td>\n",
              "      <td>150</td>\n",
              "      <td>100</td>\n",
              "      <td>150</td>\n",
              "      <td>50</td>\n",
              "      <td>6</td>\n",
              "      <td>True</td>\n",
              "    </tr>\n",
              "    <tr>\n",
              "      <th>796</th>\n",
              "      <td>797</td>\n",
              "      <td>Mega Diancie</td>\n",
              "      <td>Rock</td>\n",
              "      <td>Fairy</td>\n",
              "      <td>50</td>\n",
              "      <td>160</td>\n",
              "      <td>110</td>\n",
              "      <td>160</td>\n",
              "      <td>110</td>\n",
              "      <td>110</td>\n",
              "      <td>6</td>\n",
              "      <td>True</td>\n",
              "    </tr>\n",
              "    <tr>\n",
              "      <th>797</th>\n",
              "      <td>798</td>\n",
              "      <td>Hoopa Confined</td>\n",
              "      <td>Psychic</td>\n",
              "      <td>Ghost</td>\n",
              "      <td>80</td>\n",
              "      <td>110</td>\n",
              "      <td>60</td>\n",
              "      <td>150</td>\n",
              "      <td>130</td>\n",
              "      <td>70</td>\n",
              "      <td>6</td>\n",
              "      <td>True</td>\n",
              "    </tr>\n",
              "    <tr>\n",
              "      <th>798</th>\n",
              "      <td>799</td>\n",
              "      <td>Hoopa Unbound</td>\n",
              "      <td>Psychic</td>\n",
              "      <td>Dark</td>\n",
              "      <td>80</td>\n",
              "      <td>160</td>\n",
              "      <td>60</td>\n",
              "      <td>170</td>\n",
              "      <td>130</td>\n",
              "      <td>80</td>\n",
              "      <td>6</td>\n",
              "      <td>True</td>\n",
              "    </tr>\n",
              "    <tr>\n",
              "      <th>799</th>\n",
              "      <td>800</td>\n",
              "      <td>Volcanion</td>\n",
              "      <td>Fire</td>\n",
              "      <td>Water</td>\n",
              "      <td>80</td>\n",
              "      <td>110</td>\n",
              "      <td>120</td>\n",
              "      <td>130</td>\n",
              "      <td>90</td>\n",
              "      <td>70</td>\n",
              "      <td>6</td>\n",
              "      <td>True</td>\n",
              "    </tr>\n",
              "  </tbody>\n",
              "</table>\n",
              "<p>800 rows × 12 columns</p>\n",
              "</div>"
            ],
            "text/plain": [
              "      ID            Name    Type1  ... Speed  Generation  Legendary\n",
              "0      1       Bulbasaur    Grass  ...    45           1      False\n",
              "1      2         Ivysaur    Grass  ...    60           1      False\n",
              "2      3        Venusaur    Grass  ...    80           1      False\n",
              "3      4   Mega Venusaur    Grass  ...    80           1      False\n",
              "4      5      Charmander     Fire  ...    65           1      False\n",
              "..   ...             ...      ...  ...   ...         ...        ...\n",
              "795  796         Diancie     Rock  ...    50           6       True\n",
              "796  797    Mega Diancie     Rock  ...   110           6       True\n",
              "797  798  Hoopa Confined  Psychic  ...    70           6       True\n",
              "798  799   Hoopa Unbound  Psychic  ...    80           6       True\n",
              "799  800       Volcanion     Fire  ...    70           6       True\n",
              "\n",
              "[800 rows x 12 columns]"
            ]
          },
          "metadata": {
            "tags": []
          },
          "execution_count": 363
        }
      ]
    },
    {
      "cell_type": "markdown",
      "metadata": {
        "id": "5lZT86NhFToy"
      },
      "source": [
        "## Preparazione dei dati"
      ]
    },
    {
      "cell_type": "code",
      "metadata": {
        "id": "p-xI8qvXFToy"
      },
      "source": [
        "# codifico la colonna 'Winner' assegnando 1 se il vincitore è il primo pokemon che inizia il combattimento (First_pokemon), 0 altrimenti\n",
        "\n",
        "train.loc[train['Winner'] == train['First_pokemon'], 'Winner'] = 1\n",
        "train.loc[train['Winner'] == train['Second_pokemon'], 'Winner'] = 0\n",
        "\n",
        "test.loc[test['Winner'] == test['First_pokemon'], 'Winner'] = 1\n",
        "test.loc[test['Winner'] == test['Second_pokemon'], 'Winner'] = 0"
      ],
      "execution_count": 364,
      "outputs": []
    },
    {
      "cell_type": "markdown",
      "metadata": {
        "id": "DE1Gs2mAFToy"
      },
      "source": [
        "### Merge dei dati di train/test con i dati dei pokemon"
      ]
    },
    {
      "cell_type": "code",
      "metadata": {
        "id": "KldVZny2FToz"
      },
      "source": [
        "fights = pd.merge(train, pokemon, left_on='First_pokemon', right_on='ID')\n",
        "fights_test = pd.merge(test, pokemon, left_on='First_pokemon', right_on='ID')"
      ],
      "execution_count": 365,
      "outputs": []
    },
    {
      "cell_type": "code",
      "metadata": {
        "id": "9NTunvUZFToz"
      },
      "source": [
        "fights = pd.merge(fights, pokemon, left_on='Second_pokemon', right_on='ID')\n",
        "fights_test = pd.merge(fights_test, pokemon, left_on='Second_pokemon', right_on='ID')"
      ],
      "execution_count": 366,
      "outputs": []
    },
    {
      "cell_type": "code",
      "metadata": {
        "id": "w2Q52Ty1FToz",
        "colab": {
          "base_uri": "https://localhost:8080/",
          "height": 241
        },
        "outputId": "09951c17-8d9d-4579-a4b8-9614e80a606d"
      },
      "source": [
        "fights.head(5)"
      ],
      "execution_count": 367,
      "outputs": [
        {
          "output_type": "execute_result",
          "data": {
            "text/html": [
              "<div>\n",
              "<style scoped>\n",
              "    .dataframe tbody tr th:only-of-type {\n",
              "        vertical-align: middle;\n",
              "    }\n",
              "\n",
              "    .dataframe tbody tr th {\n",
              "        vertical-align: top;\n",
              "    }\n",
              "\n",
              "    .dataframe thead th {\n",
              "        text-align: right;\n",
              "    }\n",
              "</style>\n",
              "<table border=\"1\" class=\"dataframe\">\n",
              "  <thead>\n",
              "    <tr style=\"text-align: right;\">\n",
              "      <th></th>\n",
              "      <th>Winner</th>\n",
              "      <th>First_pokemon</th>\n",
              "      <th>Second_pokemon</th>\n",
              "      <th>ID_x</th>\n",
              "      <th>Name_x</th>\n",
              "      <th>Type1_x</th>\n",
              "      <th>Type2_x</th>\n",
              "      <th>HP_x</th>\n",
              "      <th>Attack_x</th>\n",
              "      <th>Defense_x</th>\n",
              "      <th>Sp. Atk_x</th>\n",
              "      <th>Sp. Def_x</th>\n",
              "      <th>Speed_x</th>\n",
              "      <th>Generation_x</th>\n",
              "      <th>Legendary_x</th>\n",
              "      <th>ID_y</th>\n",
              "      <th>Name_y</th>\n",
              "      <th>Type1_y</th>\n",
              "      <th>Type2_y</th>\n",
              "      <th>HP_y</th>\n",
              "      <th>Attack_y</th>\n",
              "      <th>Defense_y</th>\n",
              "      <th>Sp. Atk_y</th>\n",
              "      <th>Sp. Def_y</th>\n",
              "      <th>Speed_y</th>\n",
              "      <th>Generation_y</th>\n",
              "      <th>Legendary_y</th>\n",
              "    </tr>\n",
              "  </thead>\n",
              "  <tbody>\n",
              "    <tr>\n",
              "      <th>0</th>\n",
              "      <td>1</td>\n",
              "      <td>382</td>\n",
              "      <td>636</td>\n",
              "      <td>382</td>\n",
              "      <td>Feebas</td>\n",
              "      <td>Water</td>\n",
              "      <td>None</td>\n",
              "      <td>20</td>\n",
              "      <td>15</td>\n",
              "      <td>20</td>\n",
              "      <td>10</td>\n",
              "      <td>55</td>\n",
              "      <td>80</td>\n",
              "      <td>3</td>\n",
              "      <td>False</td>\n",
              "      <td>636</td>\n",
              "      <td>Gothita</td>\n",
              "      <td>Psychic</td>\n",
              "      <td>None</td>\n",
              "      <td>45</td>\n",
              "      <td>30</td>\n",
              "      <td>50</td>\n",
              "      <td>55</td>\n",
              "      <td>65</td>\n",
              "      <td>45</td>\n",
              "      <td>5</td>\n",
              "      <td>False</td>\n",
              "    </tr>\n",
              "    <tr>\n",
              "      <th>1</th>\n",
              "      <td>1</td>\n",
              "      <td>366</td>\n",
              "      <td>636</td>\n",
              "      <td>366</td>\n",
              "      <td>Altaria</td>\n",
              "      <td>Dragon</td>\n",
              "      <td>Flying</td>\n",
              "      <td>75</td>\n",
              "      <td>70</td>\n",
              "      <td>90</td>\n",
              "      <td>70</td>\n",
              "      <td>105</td>\n",
              "      <td>80</td>\n",
              "      <td>3</td>\n",
              "      <td>False</td>\n",
              "      <td>636</td>\n",
              "      <td>Gothita</td>\n",
              "      <td>Psychic</td>\n",
              "      <td>None</td>\n",
              "      <td>45</td>\n",
              "      <td>30</td>\n",
              "      <td>50</td>\n",
              "      <td>55</td>\n",
              "      <td>65</td>\n",
              "      <td>45</td>\n",
              "      <td>5</td>\n",
              "      <td>False</td>\n",
              "    </tr>\n",
              "    <tr>\n",
              "      <th>2</th>\n",
              "      <td>0</td>\n",
              "      <td>492</td>\n",
              "      <td>636</td>\n",
              "      <td>492</td>\n",
              "      <td>Gible</td>\n",
              "      <td>Dragon</td>\n",
              "      <td>Ground</td>\n",
              "      <td>58</td>\n",
              "      <td>70</td>\n",
              "      <td>45</td>\n",
              "      <td>40</td>\n",
              "      <td>45</td>\n",
              "      <td>42</td>\n",
              "      <td>4</td>\n",
              "      <td>False</td>\n",
              "      <td>636</td>\n",
              "      <td>Gothita</td>\n",
              "      <td>Psychic</td>\n",
              "      <td>None</td>\n",
              "      <td>45</td>\n",
              "      <td>30</td>\n",
              "      <td>50</td>\n",
              "      <td>55</td>\n",
              "      <td>65</td>\n",
              "      <td>45</td>\n",
              "      <td>5</td>\n",
              "      <td>False</td>\n",
              "    </tr>\n",
              "    <tr>\n",
              "      <th>3</th>\n",
              "      <td>1</td>\n",
              "      <td>214</td>\n",
              "      <td>636</td>\n",
              "      <td>214</td>\n",
              "      <td>Murkrow</td>\n",
              "      <td>Dark</td>\n",
              "      <td>Flying</td>\n",
              "      <td>60</td>\n",
              "      <td>85</td>\n",
              "      <td>42</td>\n",
              "      <td>85</td>\n",
              "      <td>42</td>\n",
              "      <td>91</td>\n",
              "      <td>2</td>\n",
              "      <td>False</td>\n",
              "      <td>636</td>\n",
              "      <td>Gothita</td>\n",
              "      <td>Psychic</td>\n",
              "      <td>None</td>\n",
              "      <td>45</td>\n",
              "      <td>30</td>\n",
              "      <td>50</td>\n",
              "      <td>55</td>\n",
              "      <td>65</td>\n",
              "      <td>45</td>\n",
              "      <td>5</td>\n",
              "      <td>False</td>\n",
              "    </tr>\n",
              "    <tr>\n",
              "      <th>4</th>\n",
              "      <td>1</td>\n",
              "      <td>107</td>\n",
              "      <td>636</td>\n",
              "      <td>107</td>\n",
              "      <td>Krabby</td>\n",
              "      <td>Water</td>\n",
              "      <td>None</td>\n",
              "      <td>30</td>\n",
              "      <td>105</td>\n",
              "      <td>90</td>\n",
              "      <td>25</td>\n",
              "      <td>25</td>\n",
              "      <td>50</td>\n",
              "      <td>1</td>\n",
              "      <td>False</td>\n",
              "      <td>636</td>\n",
              "      <td>Gothita</td>\n",
              "      <td>Psychic</td>\n",
              "      <td>None</td>\n",
              "      <td>45</td>\n",
              "      <td>30</td>\n",
              "      <td>50</td>\n",
              "      <td>55</td>\n",
              "      <td>65</td>\n",
              "      <td>45</td>\n",
              "      <td>5</td>\n",
              "      <td>False</td>\n",
              "    </tr>\n",
              "  </tbody>\n",
              "</table>\n",
              "</div>"
            ],
            "text/plain": [
              "   Winner  First_pokemon  Second_pokemon  ...  Speed_y Generation_y Legendary_y\n",
              "0       1            382             636  ...       45            5       False\n",
              "1       1            366             636  ...       45            5       False\n",
              "2       0            492             636  ...       45            5       False\n",
              "3       1            214             636  ...       45            5       False\n",
              "4       1            107             636  ...       45            5       False\n",
              "\n",
              "[5 rows x 27 columns]"
            ]
          },
          "metadata": {
            "tags": []
          },
          "execution_count": 367
        }
      ]
    },
    {
      "cell_type": "markdown",
      "metadata": {
        "id": "lLDg68dnFToz"
      },
      "source": [
        "## Studio della correlazione fra le features"
      ]
    },
    {
      "cell_type": "code",
      "metadata": {
        "id": "WPgzO5PJFTo0",
        "colab": {
          "base_uri": "https://localhost:8080/",
          "height": 999
        },
        "outputId": "eed6373a-02c3-450f-ffb6-24dc6c84352c"
      },
      "source": [
        "plt.subplots(figsize=(16,16))\n",
        "sns.heatmap(fights.corr(), annot=True)\n",
        "plt.show()"
      ],
      "execution_count": 368,
      "outputs": [
        {
          "output_type": "display_data",
          "data": {
            "image/png": "[encoded data removed]",
            "text/plain": [
              "<Figure size 1152x1152 with 2 Axes>"
            ]
          },
          "metadata": {
            "tags": [],
            "needs_background": "light"
          }
        }
      ]
    },
    {
      "cell_type": "markdown",
      "metadata": {
        "id": "eU0axCl8FTo0"
      },
      "source": [
        "##### Dalla heatmap si nota che ciascun pokemon ha una correlazione elevata con la Generation, per cui questa features può essere rimossa. Inoltre, sia Name che ID sono feautures inutili per il mio scopo, verranno eliminate anche queste"
      ]
    },
    {
      "cell_type": "markdown",
      "metadata": {
        "id": "DPQWQisPD0Fb"
      },
      "source": [
        "####Conteggio del numero di scontri vinti da un pokemon leggendario"
      ]
    },
    {
      "cell_type": "code",
      "metadata": {
        "colab": {
          "base_uri": "https://localhost:8080/",
          "height": 279
        },
        "id": "VYZMwUmCA5rz",
        "outputId": "31717c80-94a8-4c2d-80ad-7c1d6d30094e"
      },
      "source": [
        "conditions = [\n",
        "    (fights['Winner'] == 1),\n",
        "    (fights['Winner'] == 0)]\n",
        "choices = [fights['Legendary_x'], fights['Legendary_y']]\n",
        "fights['LegendaryWinner'] = np.select(conditions, choices)\n",
        "fights.sample(20)\n",
        " \n",
        "sns.countplot(x=fights[\"LegendaryWinner\"],hue=fights[\"Winner\"])\n",
        "plt.show()"
      ],
      "execution_count": 369,
      "outputs": [
        {
          "output_type": "display_data",
          "data": {
            "image/png": "[encoded data removed]",
            "text/plain": [
              "<Figure size 432x288 with 1 Axes>"
            ]
          },
          "metadata": {
            "tags": [],
            "needs_background": "light"
          }
        }
      ]
    },
    {
      "cell_type": "markdown",
      "metadata": {
        "id": "QBWkUiJmFTo1"
      },
      "source": [
        "## Feature engineering"
      ]
    },
    {
      "cell_type": "code",
      "metadata": {
        "id": "YN6YaeE_FTo1"
      },
      "source": [
        "#cast di legendary da bool a int\n",
        "fights[\"Legendary_x\"] = fights[\"Legendary_x\"].astype(int)\n",
        "fights[\"Legendary_y\"] = fights[\"Legendary_y\"].astype(int)\n",
        "fights_test[\"Legendary_x\"] = fights_test[\"Legendary_x\"].astype(int)\n",
        "fights_test[\"Legendary_y\"] = fights_test[\"Legendary_y\"].astype(int)"
      ],
      "execution_count": 370,
      "outputs": []
    },
    {
      "cell_type": "markdown",
      "metadata": {
        "id": "YMVy835zujJl"
      },
      "source": [
        "###Calcolo delle differenze tra i valori del primo e del secondo pokemon"
      ]
    },
    {
      "cell_type": "markdown",
      "metadata": {
        "id": "i_hlQVr_uqIX"
      },
      "source": [
        "######Piuttosto che considerare i singoli valori delle caratteristiche dei pokemon, considero la differenza tra essi."
      ]
    },
    {
      "cell_type": "markdown",
      "metadata": {
        "id": "D4q98CdKvTNH"
      },
      "source": [
        "#####Name, ID e Generation non vengono considerate perchè irrilevanti ai fini dell'analisi. Vengono quindi scartate implicitamente. "
      ]
    },
    {
      "cell_type": "code",
      "metadata": {
        "id": "SoaLmka9FTo1"
      },
      "source": [
        "fights[\"Sp_Atk_diff\"] = fights[\"Sp. Atk_x\"] - fights[\"Sp. Atk_y\"]\n",
        "fights[\"Speed_diff\"] = fights[\"Speed_x\"] - fights[\"Speed_y\"]\n",
        "fights[\"Sp_Def_diff\"] = fights[\"Sp. Def_x\"] - fights[\"Sp. Def_y\"]\n",
        "fights[\"Defense_diff\"] = fights[\"Defense_x\"] - fights[\"Defense_y\"]\n",
        "fights[\"HP_diff\"] = fights[\"HP_x\"] - fights[\"HP_y\"]\n",
        "fights[\"Attack_diff\"] = fights[\"Attack_x\"] - fights[\"Attack_y\"]\n",
        "fights[\"Legendary_diff\"] = fights[\"Legendary_x\"] - fights[\"Legendary_y\"]\n",
        "\n",
        "fights = fights[[\"Sp_Atk_diff\", \"Speed_diff\", \"Sp_Def_diff\", \n",
        "                 \"Defense_diff\", \"HP_diff\", \"Attack_diff\", \n",
        "                 \"Type1_x\", \"Type1_y\", \"Type2_x\", \"Type2_y\", \n",
        "                 \"Legendary_diff\", \"Winner\"]]"
      ],
      "execution_count": 371,
      "outputs": []
    },
    {
      "cell_type": "code",
      "metadata": {
        "id": "rvNwpoLsFTo1"
      },
      "source": [
        "fights_test[\"Sp_Atk_diff\"] = fights_test[\"Sp. Atk_x\"] - fights_test[\"Sp. Atk_y\"]\n",
        "fights_test[\"Speed_diff\"] = fights_test[\"Speed_x\"] - fights_test[\"Speed_y\"]\n",
        "fights_test[\"Sp_Def_diff\"] = fights_test[\"Sp. Def_x\"] - fights_test[\"Sp. Def_y\"]\n",
        "fights_test[\"Defense_diff\"] = fights_test[\"Defense_x\"] - fights_test[\"Defense_y\"]\n",
        "fights_test[\"HP_diff\"] = fights_test[\"HP_x\"] - fights_test[\"HP_y\"]\n",
        "fights_test[\"Attack_diff\"] = fights_test[\"Attack_x\"] - fights_test[\"Attack_y\"]\n",
        "fights_test[\"Legendary_diff\"] = fights_test[\"Legendary_x\"] - fights_test[\"Legendary_y\"]\n",
        "\n",
        "fights_test = fights_test[[\"Sp_Atk_diff\", \"Speed_diff\", \"Sp_Def_diff\", \n",
        "                 \"Defense_diff\", \"HP_diff\", \"Attack_diff\", \n",
        "                 \"Type1_x\", \"Type1_y\", \"Type2_x\", \"Type2_y\", \n",
        "                 \"Legendary_diff\", \"Winner\"]]"
      ],
      "execution_count": 372,
      "outputs": []
    },
    {
      "cell_type": "code",
      "metadata": {
        "id": "xlWD1rxPFTo2",
        "colab": {
          "base_uri": "https://localhost:8080/",
          "height": 0
        },
        "outputId": "04c5d00c-900a-4cdb-faa4-0fdc18091712"
      },
      "source": [
        "fights.sample(15)"
      ],
      "execution_count": 373,
      "outputs": [
        {
          "output_type": "execute_result",
          "data": {
            "text/html": [
              "<div>\n",
              "<style scoped>\n",
              "    .dataframe tbody tr th:only-of-type {\n",
              "        vertical-align: middle;\n",
              "    }\n",
              "\n",
              "    .dataframe tbody tr th {\n",
              "        vertical-align: top;\n",
              "    }\n",
              "\n",
              "    .dataframe thead th {\n",
              "        text-align: right;\n",
              "    }\n",
              "</style>\n",
              "<table border=\"1\" class=\"dataframe\">\n",
              "  <thead>\n",
              "    <tr style=\"text-align: right;\">\n",
              "      <th></th>\n",
              "      <th>Sp_Atk_diff</th>\n",
              "      <th>Speed_diff</th>\n",
              "      <th>Sp_Def_diff</th>\n",
              "      <th>Defense_diff</th>\n",
              "      <th>HP_diff</th>\n",
              "      <th>Attack_diff</th>\n",
              "      <th>Type1_x</th>\n",
              "      <th>Type1_y</th>\n",
              "      <th>Type2_x</th>\n",
              "      <th>Type2_y</th>\n",
              "      <th>Legendary_diff</th>\n",
              "      <th>Winner</th>\n",
              "    </tr>\n",
              "  </thead>\n",
              "  <tbody>\n",
              "    <tr>\n",
              "      <th>9742</th>\n",
              "      <td>120</td>\n",
              "      <td>95</td>\n",
              "      <td>15</td>\n",
              "      <td>-15</td>\n",
              "      <td>-34</td>\n",
              "      <td>-74</td>\n",
              "      <td>Psychic</td>\n",
              "      <td>Ground</td>\n",
              "      <td>None</td>\n",
              "      <td>Ghost</td>\n",
              "      <td>0</td>\n",
              "      <td>0</td>\n",
              "    </tr>\n",
              "    <tr>\n",
              "      <th>19676</th>\n",
              "      <td>-8</td>\n",
              "      <td>-46</td>\n",
              "      <td>-8</td>\n",
              "      <td>-57</td>\n",
              "      <td>16</td>\n",
              "      <td>-67</td>\n",
              "      <td>Water</td>\n",
              "      <td>Rock</td>\n",
              "      <td>None</td>\n",
              "      <td>Water</td>\n",
              "      <td>0</td>\n",
              "      <td>0</td>\n",
              "    </tr>\n",
              "    <tr>\n",
              "      <th>22913</th>\n",
              "      <td>40</td>\n",
              "      <td>30</td>\n",
              "      <td>40</td>\n",
              "      <td>70</td>\n",
              "      <td>80</td>\n",
              "      <td>110</td>\n",
              "      <td>Dragon</td>\n",
              "      <td>Dark</td>\n",
              "      <td>Ice</td>\n",
              "      <td>Fire</td>\n",
              "      <td>1</td>\n",
              "      <td>1</td>\n",
              "    </tr>\n",
              "    <tr>\n",
              "      <th>31057</th>\n",
              "      <td>33</td>\n",
              "      <td>9</td>\n",
              "      <td>-7</td>\n",
              "      <td>-17</td>\n",
              "      <td>-20</td>\n",
              "      <td>-19</td>\n",
              "      <td>Fire</td>\n",
              "      <td>Ground</td>\n",
              "      <td>None</td>\n",
              "      <td>Dark</td>\n",
              "      <td>0</td>\n",
              "      <td>1</td>\n",
              "    </tr>\n",
              "    <tr>\n",
              "      <th>30461</th>\n",
              "      <td>-95</td>\n",
              "      <td>-75</td>\n",
              "      <td>-60</td>\n",
              "      <td>10</td>\n",
              "      <td>-10</td>\n",
              "      <td>-5</td>\n",
              "      <td>Ground</td>\n",
              "      <td>Electric</td>\n",
              "      <td>Rock</td>\n",
              "      <td>Flying</td>\n",
              "      <td>-1</td>\n",
              "      <td>1</td>\n",
              "    </tr>\n",
              "    <tr>\n",
              "      <th>10744</th>\n",
              "      <td>0</td>\n",
              "      <td>-49</td>\n",
              "      <td>-5</td>\n",
              "      <td>-15</td>\n",
              "      <td>10</td>\n",
              "      <td>-36</td>\n",
              "      <td>Grass</td>\n",
              "      <td>Bug</td>\n",
              "      <td>None</td>\n",
              "      <td>None</td>\n",
              "      <td>0</td>\n",
              "      <td>0</td>\n",
              "    </tr>\n",
              "    <tr>\n",
              "      <th>18819</th>\n",
              "      <td>-37</td>\n",
              "      <td>5</td>\n",
              "      <td>-7</td>\n",
              "      <td>-2</td>\n",
              "      <td>25</td>\n",
              "      <td>-7</td>\n",
              "      <td>Poison</td>\n",
              "      <td>Grass</td>\n",
              "      <td>None</td>\n",
              "      <td>Poison</td>\n",
              "      <td>0</td>\n",
              "      <td>1</td>\n",
              "    </tr>\n",
              "    <tr>\n",
              "      <th>11757</th>\n",
              "      <td>10</td>\n",
              "      <td>-22</td>\n",
              "      <td>11</td>\n",
              "      <td>36</td>\n",
              "      <td>20</td>\n",
              "      <td>5</td>\n",
              "      <td>Ground</td>\n",
              "      <td>Bug</td>\n",
              "      <td>None</td>\n",
              "      <td>Poison</td>\n",
              "      <td>0</td>\n",
              "      <td>0</td>\n",
              "    </tr>\n",
              "    <tr>\n",
              "      <th>3440</th>\n",
              "      <td>42</td>\n",
              "      <td>72</td>\n",
              "      <td>42</td>\n",
              "      <td>50</td>\n",
              "      <td>60</td>\n",
              "      <td>83</td>\n",
              "      <td>Normal</td>\n",
              "      <td>Normal</td>\n",
              "      <td>Fighting</td>\n",
              "      <td>Flying</td>\n",
              "      <td>0</td>\n",
              "      <td>1</td>\n",
              "    </tr>\n",
              "    <tr>\n",
              "      <th>28151</th>\n",
              "      <td>15</td>\n",
              "      <td>65</td>\n",
              "      <td>15</td>\n",
              "      <td>-45</td>\n",
              "      <td>5</td>\n",
              "      <td>15</td>\n",
              "      <td>Normal</td>\n",
              "      <td>Rock</td>\n",
              "      <td>Flying</td>\n",
              "      <td>Ground</td>\n",
              "      <td>0</td>\n",
              "      <td>1</td>\n",
              "    </tr>\n",
              "    <tr>\n",
              "      <th>2980</th>\n",
              "      <td>-25</td>\n",
              "      <td>32</td>\n",
              "      <td>-35</td>\n",
              "      <td>-15</td>\n",
              "      <td>11</td>\n",
              "      <td>62</td>\n",
              "      <td>Dragon</td>\n",
              "      <td>Water</td>\n",
              "      <td>None</td>\n",
              "      <td>Rock</td>\n",
              "      <td>0</td>\n",
              "      <td>1</td>\n",
              "    </tr>\n",
              "    <tr>\n",
              "      <th>18045</th>\n",
              "      <td>-47</td>\n",
              "      <td>-52</td>\n",
              "      <td>-72</td>\n",
              "      <td>-57</td>\n",
              "      <td>35</td>\n",
              "      <td>-47</td>\n",
              "      <td>Psychic</td>\n",
              "      <td>Ground</td>\n",
              "      <td>None</td>\n",
              "      <td>Psychic</td>\n",
              "      <td>0</td>\n",
              "      <td>0</td>\n",
              "    </tr>\n",
              "    <tr>\n",
              "      <th>14403</th>\n",
              "      <td>30</td>\n",
              "      <td>21</td>\n",
              "      <td>59</td>\n",
              "      <td>38</td>\n",
              "      <td>57</td>\n",
              "      <td>95</td>\n",
              "      <td>Water</td>\n",
              "      <td>Normal</td>\n",
              "      <td>Flying</td>\n",
              "      <td>None</td>\n",
              "      <td>0</td>\n",
              "      <td>1</td>\n",
              "    </tr>\n",
              "    <tr>\n",
              "      <th>27243</th>\n",
              "      <td>-5</td>\n",
              "      <td>35</td>\n",
              "      <td>25</td>\n",
              "      <td>25</td>\n",
              "      <td>15</td>\n",
              "      <td>30</td>\n",
              "      <td>Fighting</td>\n",
              "      <td>Psychic</td>\n",
              "      <td>Psychic</td>\n",
              "      <td>None</td>\n",
              "      <td>0</td>\n",
              "      <td>1</td>\n",
              "    </tr>\n",
              "    <tr>\n",
              "      <th>22076</th>\n",
              "      <td>15</td>\n",
              "      <td>30</td>\n",
              "      <td>80</td>\n",
              "      <td>87</td>\n",
              "      <td>36</td>\n",
              "      <td>23</td>\n",
              "      <td>Psychic</td>\n",
              "      <td>Fire</td>\n",
              "      <td>None</td>\n",
              "      <td>None</td>\n",
              "      <td>1</td>\n",
              "      <td>1</td>\n",
              "    </tr>\n",
              "  </tbody>\n",
              "</table>\n",
              "</div>"
            ],
            "text/plain": [
              "       Sp_Atk_diff  Speed_diff  Sp_Def_diff  ...  Type2_y  Legendary_diff  Winner\n",
              "9742           120          95           15  ...    Ghost               0       0\n",
              "19676           -8         -46           -8  ...    Water               0       0\n",
              "22913           40          30           40  ...     Fire               1       1\n",
              "31057           33           9           -7  ...     Dark               0       1\n",
              "30461          -95         -75          -60  ...   Flying              -1       1\n",
              "10744            0         -49           -5  ...     None               0       0\n",
              "18819          -37           5           -7  ...   Poison               0       1\n",
              "11757           10         -22           11  ...   Poison               0       0\n",
              "3440            42          72           42  ...   Flying               0       1\n",
              "28151           15          65           15  ...   Ground               0       1\n",
              "2980           -25          32          -35  ...     Rock               0       1\n",
              "18045          -47         -52          -72  ...  Psychic               0       0\n",
              "14403           30          21           59  ...     None               0       1\n",
              "27243           -5          35           25  ...     None               0       1\n",
              "22076           15          30           80  ...     None               1       1\n",
              "\n",
              "[15 rows x 12 columns]"
            ]
          },
          "metadata": {
            "tags": []
          },
          "execution_count": 373
        }
      ]
    },
    {
      "cell_type": "code",
      "metadata": {
        "id": "rWA25a1ZFTo4",
        "colab": {
          "base_uri": "https://localhost:8080/",
          "height": 0
        },
        "outputId": "3d98ebfe-06f4-4a2e-84c5-0a4e4e68453f"
      },
      "source": [
        "sns.heatmap(fights.corr(), annot=True)\n",
        "plt.show()"
      ],
      "execution_count": 374,
      "outputs": [
        {
          "output_type": "display_data",
          "data": {
            "image/png": "[encoded data removed]",
            "text/plain": [
              "<Figure size 432x288 with 2 Axes>"
            ]
          },
          "metadata": {
            "tags": [],
            "needs_background": "light"
          }
        }
      ]
    },
    {
      "cell_type": "markdown",
      "metadata": {
        "id": "7i6hn9VRFTo5"
      },
      "source": [
        "##### La feature 'Defense_diff' ha una correlazione molto bassa, può dunque essere rimossa."
      ]
    },
    {
      "cell_type": "code",
      "metadata": {
        "id": "M_PQU0A-FTo6"
      },
      "source": [
        "fights = fights.drop('Defense_diff', axis=1)\n",
        "fights_test = fights_test.drop('Defense_diff', axis=1)"
      ],
      "execution_count": 375,
      "outputs": []
    },
    {
      "cell_type": "markdown",
      "metadata": {
        "id": "GR3QzuIHAyDq"
      },
      "source": [
        "####Verifico se i pokemon leggendari tendono a vincere"
      ]
    },
    {
      "cell_type": "markdown",
      "metadata": {
        "id": "KLWj3UTCFTo7"
      },
      "source": [
        "## Addestramento del modello"
      ]
    },
    {
      "cell_type": "code",
      "metadata": {
        "id": "SqZYuU2YFTo7"
      },
      "source": [
        "X_train = fights.drop([\"Winner\"], axis=1)\n",
        "y_train = fights[\"Winner\"]\n",
        "\n",
        "X_test = fights_test.drop([\"Winner\"], axis=1)\n",
        "y_test = fights_test[\"Winner\"]"
      ],
      "execution_count": 376,
      "outputs": []
    },
    {
      "cell_type": "markdown",
      "metadata": {
        "id": "tuZPaDG1-Bta"
      },
      "source": [
        "#####Label encoder delle colonne Type1 e Type2"
      ]
    },
    {
      "cell_type": "code",
      "metadata": {
        "id": "707TAfErFTo7"
      },
      "source": [
        "s = (X_train.dtypes == 'object')\n",
        "object_cols = list(s[s].index)\n",
        "\n",
        "from sklearn.preprocessing import LabelEncoder\n",
        "label_encoder = LabelEncoder()\n",
        "for col in object_cols:\n",
        "    X_train[col] = label_encoder.fit_transform(X_train[col])\n",
        "    X_test[col] = label_encoder.transform(X_test[col])"
      ],
      "execution_count": 377,
      "outputs": []
    },
    {
      "cell_type": "code",
      "metadata": {
        "id": "L8n7J6vHFTo7",
        "colab": {
          "base_uri": "https://localhost:8080/",
          "height": 313
        },
        "outputId": "1f411061-830f-40ba-e7a4-229b2e2e4d69"
      },
      "source": [
        "from sklearn.metrics import plot_confusion_matrix, accuracy_score\n",
        "# fase di training\n",
        "from sklearn.tree import DecisionTreeClassifier\n",
        "tree = DecisionTreeClassifier(criterion = 'entropy',random_state=42)\n",
        "model = tree.fit(X_train, y_train)\n",
        "\n",
        "print(\"Accuracy on training set: {:.2f}%\".format(tree.score(X_train, y_train)*100))\n",
        "\n",
        "# verifo l'accuracy del modello\n",
        "print(\"Accuracy on test set: {:.2f}%\".format(tree.score(X_test, y_test)*100))\n",
        "\n",
        "plot_confusion_matrix(model, X_test, y_test,normalize='true')\n",
        "plt.show()"
      ],
      "execution_count": 378,
      "outputs": [
        {
          "output_type": "stream",
          "text": [
            "Accuracy on training set: 100.00%\n",
            "Accuracy on test set: 92.97%\n"
          ],
          "name": "stdout"
        },
        {
          "output_type": "display_data",
          "data": {
            "image/png": "[encoded data removed]",
            "text/plain": [
              "<Figure size 432x288 with 2 Axes>"
            ]
          },
          "metadata": {
            "tags": [],
            "needs_background": "light"
          }
        }
      ]
    }
  ]
}