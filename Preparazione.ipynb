{
  "nbformat": 4,
  "nbformat_minor": 0,
  "metadata": {
    "colab": {
      "name": "Preparazione.ipynb",
      "provenance": [],
      "collapsed_sections": [],
      "authorship_tag": "ABX9TyP4k+DZC1EampdINJ9JUOmI",
      "include_colab_link": true
    },
    "kernelspec": {
      "name": "python3",
      "display_name": "Python 3"
    },
    "language_info": {
      "name": "python"
    }
  },
  "cells": [
    {
      "cell_type": "markdown",
      "metadata": {
        "id": "view-in-github",
        "colab_type": "text"
      },
      "source": [
        "<a href=\"https://colab.research.google.com/github/MariaCarmelaPascale/Pokemon/blob/main/Preparazione.ipynb\" target=\"_parent\"><img src=\"https://colab.research.google.com/assets/colab-badge.svg\" alt=\"Open In Colab\"/></a>"
      ]
    },
    {
      "cell_type": "code",
      "metadata": {
        "id": "yCj9EkhhmEt8"
      },
      "source": [
        "import pandas as pd\n",
        "from sklearn.model_selection import train_test_split\n",
        "\n",
        "\n",
        "data = pd.read_csv(\"combats.partial.csv\")\n",
        "\n",
        "train, test = train_test_split(data,random_state=42,test_size=0.2)\n",
        "\n",
        "train.to_csv(\"train.csv\", index = False)\n",
        "test.to_csv(\"test.csv\", index = False)"
      ],
      "execution_count": 1,
      "outputs": []
    }
  ]
}